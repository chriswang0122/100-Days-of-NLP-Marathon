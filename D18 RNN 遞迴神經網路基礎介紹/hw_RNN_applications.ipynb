{
 "cells": [
  {
   "cell_type": "markdown",
   "metadata": {
    "id": "QPYgcakvJzMk"
   },
   "source": [
    "瞭解三大深度學習網路的差異後，在課程內容提到的的下列應用：\n",
    "\n",
    "1. 正負電影評價\n",
    "2. 真假新聞識別\n",
    "3. 語言翻譯\n",
    "4. 文章生成\n",
    "5. 聊天機器人\n",
    "6. 股價預測\n",
    "\n",
    "請學員網路查查有沒有其他更有用、有趣的RNN應用?\n",
    "\n",
    "1. 語音辨識 (Speech Recognition, STT)\n",
    "2. 語音合成 (Speech Synthesis, TTS)\n",
    "3. 推薦系統 (Recommendation System)"
   ]
  }
 ],
 "metadata": {
  "colab": {
   "authorship_tag": "ABX9TyNdqclwIEi8CrRZZ16CZ0pR",
   "name": "Untitled0.ipynb",
   "provenance": []
  },
  "kernelspec": {
   "display_name": "Python 3",
   "language": "python",
   "name": "python3"
  },
  "language_info": {
   "codemirror_mode": {
    "name": "ipython",
    "version": 3
   },
   "file_extension": ".py",
   "mimetype": "text/x-python",
   "name": "python",
   "nbconvert_exporter": "python",
   "pygments_lexer": "ipython3",
   "version": "3.7.8"
  }
 },
 "nbformat": 4,
 "nbformat_minor": 4
}
