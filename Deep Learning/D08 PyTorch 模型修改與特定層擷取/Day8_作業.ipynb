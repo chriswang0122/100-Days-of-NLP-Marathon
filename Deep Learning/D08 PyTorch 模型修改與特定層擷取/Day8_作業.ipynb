{
 "cells": [
  {
   "cell_type": "code",
   "execution_count": 1,
   "metadata": {
    "executionInfo": {
     "elapsed": 4574,
     "status": "ok",
     "timestamp": 1609929799051,
     "user": {
      "displayName": "王俊煒",
      "photoUrl": "",
      "userId": "10865038187423164500"
     },
     "user_tz": -480
    },
    "id": "DzbFkygZShCA"
   },
   "outputs": [],
   "source": [
    "import torch\n",
    "import torch.nn as nn\n",
    "import torchvision.models as models\n",
    "import torch.nn.functional as F"
   ]
  },
  {
   "cell_type": "markdown",
   "metadata": {
    "id": "GxGXuIrAShCF"
   },
   "source": [
    "## 依照指示取出模型特定層的資訊"
   ]
  },
  {
   "cell_type": "code",
   "execution_count": 2,
   "metadata": {
    "executionInfo": {
     "elapsed": 4570,
     "status": "ok",
     "timestamp": 1609929799051,
     "user": {
      "displayName": "王俊煒",
      "photoUrl": "",
      "userId": "10865038187423164500"
     },
     "user_tz": -480
    },
    "id": "LtC1xFFNShCG"
   },
   "outputs": [],
   "source": [
    "# Define model\n",
    "class TheModelClass(nn.Module):\n",
    "    def __init__(self):\n",
    "        super(TheModelClass, self).__init__()\n",
    "        self.conv1 = nn.Conv2d(3, 6, 5)\n",
    "        self.pool = nn.MaxPool2d(2, 2)\n",
    "        self.conv2 = nn.Conv2d(6, 16, 5)\n",
    "        self.fc1 = nn.Linear(16 * 5 * 5, 120)\n",
    "        self.fc2 = nn.Linear(120, 84)\n",
    "        self.fc3 = nn.Linear(84, 10)\n",
    "\n",
    "    def forward(self, x):\n",
    "        x = self.pool(F.relu(self.conv1(x)))\n",
    "        x = self.pool(F.relu(self.conv2(x)))\n",
    "        x = x.view(-1, 16 * 5 * 5)\n",
    "        x = F.relu(self.fc1(x))\n",
    "        x = F.relu(self.fc2(x))\n",
    "        x = self.fc3(x)\n",
    "\n",
    "        return x\n",
    "\n",
    "# Initialize model\n",
    "model = TheModelClass()"
   ]
  },
  {
   "cell_type": "markdown",
   "metadata": {
    "id": "2FlZFUCfShCG"
   },
   "source": [
    "### 取出 self.pool層兩次的輸出，包含：\n",
    "* x = self.pool(F.relu(self.conv1(x)))\n",
    "* x = self.pool(F.relu(self.conv2(x)))"
   ]
  },
  {
   "cell_type": "code",
   "execution_count": 3,
   "metadata": {
    "colab": {
     "base_uri": "https://localhost:8080/"
    },
    "executionInfo": {
     "elapsed": 771,
     "status": "ok",
     "timestamp": 1609929979601,
     "user": {
      "displayName": "王俊煒",
      "photoUrl": "",
      "userId": "10865038187423164500"
     },
     "user_tz": -480
    },
    "id": "6tEHQ59yShCG",
    "outputId": "3a8c8456-f188-4107-aa42-80762d50d43a"
   },
   "outputs": [
    {
     "data": {
      "text/plain": [
       "<torch.utils.hooks.RemovableHandle at 0x7f8668fac080>"
      ]
     },
     "execution_count": 3,
     "metadata": {
      "tags": []
     },
     "output_type": "execute_result"
    }
   ],
   "source": [
    "outputs= []\n",
    "def layer1_hook(module, input_, output):\n",
    "    outputs.append(output)\n",
    "    \n",
    "model.pool.register_forward_hook(layer1_hook)"
   ]
  },
  {
   "cell_type": "code",
   "execution_count": 4,
   "metadata": {
    "executionInfo": {
     "elapsed": 1000,
     "status": "ok",
     "timestamp": 1609929988410,
     "user": {
      "displayName": "王俊煒",
      "photoUrl": "",
      "userId": "10865038187423164500"
     },
     "user_tz": -480
    },
    "id": "Em1ymwADShCH"
   },
   "outputs": [],
   "source": [
    "input_ = torch.randn(1, 3, 32, 32)\n",
    "output = model(input_)"
   ]
  },
  {
   "cell_type": "code",
   "execution_count": 5,
   "metadata": {
    "colab": {
     "base_uri": "https://localhost:8080/"
    },
    "executionInfo": {
     "elapsed": 729,
     "status": "ok",
     "timestamp": 1609929996966,
     "user": {
      "displayName": "王俊煒",
      "photoUrl": "",
      "userId": "10865038187423164500"
     },
     "user_tz": -480
    },
    "id": "4lSYrzQZShCI",
    "outputId": "68752bcd-0d45-446a-9bbd-501482445523"
   },
   "outputs": [
    {
     "data": {
      "text/plain": [
       "[tensor([[[[0.6445, 0.7016, 1.0737,  ..., 1.0608, 1.0337, 0.4079],\n",
       "           [0.2224, 0.7096, 0.4253,  ..., 0.7059, 1.0912, 1.1939],\n",
       "           [0.3262, 0.5833, 0.1829,  ..., 0.5954, 1.0931, 0.9261],\n",
       "           ...,\n",
       "           [0.0000, 0.6969, 0.6909,  ..., 1.0786, 0.0437, 0.7785],\n",
       "           [0.4589, 0.8038, 0.3040,  ..., 0.0000, 0.4004, 0.3798],\n",
       "           [1.1150, 0.0000, 1.3144,  ..., 0.2682, 0.3149, 1.5613]],\n",
       " \n",
       "          [[0.9268, 0.9333, 0.8470,  ..., 1.1632, 0.8317, 0.4549],\n",
       "           [0.0747, 0.7007, 0.8653,  ..., 1.0888, 0.3255, 0.8984],\n",
       "           [0.3957, 0.8363, 0.6087,  ..., 0.4042, 1.0745, 1.2923],\n",
       "           ...,\n",
       "           [2.8959, 0.3515, 0.0420,  ..., 0.6406, 0.5662, 0.1769],\n",
       "           [0.0000, 0.7103, 0.5869,  ..., 0.0000, 0.7889, 0.5959],\n",
       "           [1.1510, 0.5512, 1.3242,  ..., 0.5007, 0.7953, 0.0708]],\n",
       " \n",
       "          [[1.1097, 0.7995, 1.0622,  ..., 0.0000, 0.4222, 0.4406],\n",
       "           [1.0418, 0.1645, 1.2063,  ..., 0.9238, 0.6548, 0.3594],\n",
       "           [1.0578, 1.0032, 0.9608,  ..., 0.3877, 0.0181, 0.0000],\n",
       "           ...,\n",
       "           [1.0910, 0.0030, 0.9169,  ..., 0.4815, 0.0000, 0.3237],\n",
       "           [1.2533, 0.6684, 1.0182,  ..., 0.6986, 0.9640, 0.7073],\n",
       "           [0.7053, 1.3313, 0.2627,  ..., 0.3354, 0.2917, 0.1614]],\n",
       " \n",
       "          [[0.4468, 0.0000, 1.1357,  ..., 0.8166, 0.6077, 0.2576],\n",
       "           [0.6608, 0.9742, 0.2005,  ..., 0.3156, 0.0823, 0.8770],\n",
       "           [0.0719, 0.3176, 0.7642,  ..., 0.6415, 0.9258, 1.3508],\n",
       "           ...,\n",
       "           [0.0000, 0.8273, 0.9727,  ..., 0.2856, 0.3588, 0.8703],\n",
       "           [1.5344, 0.3963, 1.0670,  ..., 0.9299, 0.0000, 0.8752],\n",
       "           [0.1753, 0.9477, 0.8093,  ..., 1.4205, 0.9344, 1.1276]],\n",
       " \n",
       "          [[0.5369, 0.2815, 0.2124,  ..., 0.9503, 0.6021, 0.8871],\n",
       "           [0.2670, 0.3529, 0.9961,  ..., 0.8721, 1.0291, 0.8198],\n",
       "           [0.0689, 0.8055, 0.3748,  ..., 0.5899, 1.2667, 0.9359],\n",
       "           ...,\n",
       "           [0.0000, 1.6594, 0.1429,  ..., 0.0000, 1.0605, 1.4896],\n",
       "           [0.0435, 0.5868, 0.5136,  ..., 0.0495, 1.0848, 0.3117],\n",
       "           [0.1852, 0.7550, 0.9225,  ..., 0.0492, 0.1363, 0.9515]],\n",
       " \n",
       "          [[0.0000, 0.8065, 1.0270,  ..., 1.2487, 0.4300, 0.9165],\n",
       "           [1.1325, 1.0790, 0.2448,  ..., 0.4207, 0.9450, 1.3604],\n",
       "           [0.9455, 1.1720, 0.8461,  ..., 0.6531, 1.0720, 1.0271],\n",
       "           ...,\n",
       "           [0.4092, 1.0647, 0.0000,  ..., 1.3952, 0.7134, 0.3185],\n",
       "           [0.0604, 0.0000, 1.2748,  ..., 0.6550, 0.6885, 0.9358],\n",
       "           [0.6443, 1.0011, 1.6321,  ..., 0.4324, 0.6530, 1.0259]]]],\n",
       "        grad_fn=<MaxPool2DWithIndicesBackward>),\n",
       " tensor([[[[1.1742e+00, 1.0162e+00, 1.0833e+00, 1.2287e+00, 1.5002e+00],\n",
       "           [1.1102e+00, 1.0843e+00, 1.1566e+00, 1.2413e+00, 1.4134e+00],\n",
       "           [1.1432e+00, 1.0563e+00, 1.0856e+00, 1.3762e+00, 1.0559e+00],\n",
       "           [1.1509e+00, 1.0164e+00, 9.7206e-01, 9.4918e-01, 9.5756e-01],\n",
       "           [9.3324e-01, 7.7131e-01, 5.8700e-01, 7.5078e-01, 7.8420e-01]],\n",
       " \n",
       "          [[1.1126e-01, 6.0907e-02, 2.4695e-01, 3.1048e-01, 2.5064e-01],\n",
       "           [1.6093e-01, 9.9407e-02, 3.0019e-01, 1.8931e-01, 1.0369e-01],\n",
       "           [4.7398e-03, 1.2486e-01, 3.1735e-01, 2.5011e-01, 2.0365e-01],\n",
       "           [3.2235e-01, 3.0532e-01, 1.2653e-01, 2.5162e-01, 7.8962e-02],\n",
       "           [1.4091e-01, 1.5712e-01, 0.0000e+00, 1.9072e-01, 1.6007e-01]],\n",
       " \n",
       "          [[0.0000e+00, 1.7776e-02, 1.8520e-01, 0.0000e+00, 9.2221e-02],\n",
       "           [4.5159e-02, 2.6816e-01, 0.0000e+00, 0.0000e+00, 3.9744e-01],\n",
       "           [0.0000e+00, 0.0000e+00, 1.6367e-02, 4.2164e-02, 1.9029e-01],\n",
       "           [0.0000e+00, 3.0393e-01, 1.4805e-01, 0.0000e+00, 3.5041e-02],\n",
       "           [0.0000e+00, 2.1059e-01, 0.0000e+00, 0.0000e+00, 0.0000e+00]],\n",
       " \n",
       "          [[5.9291e-01, 7.6186e-01, 6.1095e-01, 9.2385e-01, 1.1783e+00],\n",
       "           [8.9167e-01, 6.8236e-01, 7.6773e-01, 5.6742e-01, 7.2931e-01],\n",
       "           [5.3503e-01, 9.3989e-01, 7.0332e-01, 8.9167e-01, 6.0828e-01],\n",
       "           [6.7140e-01, 8.6939e-01, 7.5895e-01, 8.3126e-01, 2.6570e-01],\n",
       "           [5.5792e-01, 6.5146e-01, 5.4968e-01, 3.4344e-01, 1.0137e+00]],\n",
       " \n",
       "          [[2.8844e-01, 2.0603e-01, 4.1974e-01, 3.3937e-01, 2.8650e-01],\n",
       "           [6.4934e-02, 3.1906e-01, 2.6553e-01, 2.0680e-01, 3.4715e-01],\n",
       "           [2.5623e-01, 4.3618e-01, 5.7971e-01, 1.9469e-01, 0.0000e+00],\n",
       "           [2.6572e-01, 6.2607e-02, 8.3498e-02, 0.0000e+00, 1.6359e-01],\n",
       "           [3.4890e-01, 0.0000e+00, 1.9955e-02, 7.5146e-02, 1.9085e-01]],\n",
       " \n",
       "          [[0.0000e+00, 0.0000e+00, 0.0000e+00, 0.0000e+00, 0.0000e+00],\n",
       "           [0.0000e+00, 0.0000e+00, 0.0000e+00, 0.0000e+00, 0.0000e+00],\n",
       "           [0.0000e+00, 0.0000e+00, 0.0000e+00, 0.0000e+00, 0.0000e+00],\n",
       "           [0.0000e+00, 0.0000e+00, 0.0000e+00, 0.0000e+00, 0.0000e+00],\n",
       "           [0.0000e+00, 0.0000e+00, 0.0000e+00, 0.0000e+00, 0.0000e+00]],\n",
       " \n",
       "          [[4.8944e-01, 4.8544e-01, 3.1460e-01, 8.1865e-01, 3.7593e-01],\n",
       "           [5.9128e-01, 6.3492e-01, 1.7850e-01, 3.8232e-01, 6.5616e-01],\n",
       "           [2.2538e-01, 3.2207e-01, 7.3851e-01, 1.8314e-01, 3.6401e-01],\n",
       "           [3.2230e-01, 3.8584e-01, 3.1763e-01, 7.1772e-01, 1.0616e+00],\n",
       "           [3.5075e-01, 2.7885e-01, 2.6626e-01, 3.3440e-01, 4.4437e-01]],\n",
       " \n",
       "          [[7.2509e-01, 1.3025e+00, 9.2904e-01, 9.8814e-01, 6.8985e-01],\n",
       "           [1.0937e+00, 8.3355e-01, 7.4760e-01, 9.1023e-01, 8.2727e-01],\n",
       "           [1.0195e+00, 1.1024e+00, 8.2323e-01, 1.1443e+00, 1.0225e+00],\n",
       "           [6.3081e-01, 9.6597e-01, 8.3510e-01, 1.0914e+00, 8.7345e-01],\n",
       "           [6.2694e-01, 8.0549e-01, 4.9732e-01, 6.8163e-01, 7.6504e-01]],\n",
       " \n",
       "          [[0.0000e+00, 0.0000e+00, 0.0000e+00, 1.8544e-01, 0.0000e+00],\n",
       "           [0.0000e+00, 0.0000e+00, 0.0000e+00, 0.0000e+00, 0.0000e+00],\n",
       "           [0.0000e+00, 0.0000e+00, 0.0000e+00, 0.0000e+00, 1.4868e-01],\n",
       "           [0.0000e+00, 0.0000e+00, 0.0000e+00, 9.3587e-03, 6.6689e-02],\n",
       "           [0.0000e+00, 0.0000e+00, 4.4928e-02, 0.0000e+00, 0.0000e+00]],\n",
       " \n",
       "          [[7.3622e-01, 7.3988e-01, 7.2628e-01, 8.6367e-01, 7.6427e-01],\n",
       "           [9.3536e-01, 4.6536e-01, 6.2147e-01, 9.0051e-01, 8.1179e-01],\n",
       "           [6.5791e-01, 7.5243e-01, 6.9802e-01, 6.0351e-01, 6.2369e-01],\n",
       "           [4.6972e-01, 6.9271e-01, 7.6279e-01, 6.6987e-01, 8.3537e-01],\n",
       "           [8.4378e-01, 4.7377e-01, 4.7231e-01, 2.5216e-01, 4.8118e-01]],\n",
       " \n",
       "          [[5.2539e-01, 8.3578e-01, 9.5565e-01, 9.0368e-01, 9.6229e-01],\n",
       "           [5.6942e-01, 8.6031e-01, 8.1660e-01, 7.1393e-01, 8.4321e-01],\n",
       "           [1.1173e+00, 6.4544e-01, 9.4455e-01, 7.6256e-01, 6.2802e-01],\n",
       "           [6.2930e-01, 5.9600e-01, 3.2294e-01, 8.8148e-01, 6.9716e-01],\n",
       "           [5.7145e-01, 3.6523e-01, 6.6885e-01, 5.9224e-01, 3.8712e-01]],\n",
       " \n",
       "          [[0.0000e+00, 0.0000e+00, 0.0000e+00, 0.0000e+00, 6.1246e-04],\n",
       "           [0.0000e+00, 0.0000e+00, 0.0000e+00, 0.0000e+00, 0.0000e+00],\n",
       "           [0.0000e+00, 0.0000e+00, 0.0000e+00, 0.0000e+00, 3.0752e-01],\n",
       "           [0.0000e+00, 0.0000e+00, 0.0000e+00, 0.0000e+00, 1.0105e-02],\n",
       "           [0.0000e+00, 0.0000e+00, 0.0000e+00, 0.0000e+00, 0.0000e+00]],\n",
       " \n",
       "          [[4.8789e-01, 2.8796e-01, 7.2095e-01, 3.9809e-01, 5.5288e-01],\n",
       "           [4.4870e-01, 4.3054e-01, 5.5248e-01, 5.3278e-01, 1.7819e-01],\n",
       "           [6.0820e-01, 4.4530e-01, 5.5389e-01, 5.5215e-01, 3.6498e-01],\n",
       "           [4.6832e-01, 5.3455e-01, 3.2230e-01, 6.8827e-01, 5.9122e-01],\n",
       "           [6.3060e-01, 2.8321e-01, 6.8705e-01, 5.3090e-01, 2.5664e-01]],\n",
       " \n",
       "          [[3.4665e-01, 2.0818e-01, 7.1178e-01, 2.1982e-01, 2.1123e-01],\n",
       "           [1.8475e-01, 1.8014e-01, 3.4744e-01, 3.1513e-01, 1.2415e-01],\n",
       "           [6.6400e-01, 6.3026e-01, 3.3926e-01, 4.8330e-01, 5.7692e-01],\n",
       "           [5.3625e-01, 0.0000e+00, 4.4956e-01, 1.8652e-01, 2.5723e-01],\n",
       "           [6.8175e-02, 2.0417e-01, 2.5404e-01, 4.6987e-01, 3.6988e-01]],\n",
       " \n",
       "          [[3.3438e-01, 2.4652e-01, 2.3971e-01, 2.6800e-01, 3.7293e-01],\n",
       "           [4.0254e-01, 5.2819e-01, 4.1502e-01, 5.4750e-01, 7.0369e-01],\n",
       "           [7.8477e-01, 3.3804e-01, 4.5656e-02, 2.1715e-01, 2.1656e-01],\n",
       "           [5.8095e-01, 1.7030e-01, 1.6362e-01, 7.7823e-01, 2.3712e-01],\n",
       "           [1.0936e-01, 0.0000e+00, 5.3294e-01, 3.8950e-01, 2.9971e-01]],\n",
       " \n",
       "          [[2.8484e-01, 3.3760e-01, 2.2122e-01, 6.3058e-02, 7.8462e-02],\n",
       "           [5.2406e-01, 1.2499e-01, 1.1574e-01, 3.4496e-01, 3.0550e-01],\n",
       "           [2.7270e-01, 1.3565e-01, 2.0218e-01, 4.8952e-01, 4.4653e-02],\n",
       "           [1.6224e-01, 1.8382e-01, 2.5319e-01, 4.1127e-02, 5.7108e-01],\n",
       "           [2.6799e-01, 1.9676e-01, 1.8662e-01, 3.1875e-01, 3.2768e-01]]]],\n",
       "        grad_fn=<MaxPool2DWithIndicesBackward>)]"
      ]
     },
     "execution_count": 5,
     "metadata": {
      "tags": []
     },
     "output_type": "execute_result"
    }
   ],
   "source": [
    "outputs"
   ]
  },
  {
   "cell_type": "code",
   "execution_count": 6,
   "metadata": {
    "colab": {
     "base_uri": "https://localhost:8080/"
    },
    "executionInfo": {
     "elapsed": 682,
     "status": "ok",
     "timestamp": 1609930005163,
     "user": {
      "displayName": "王俊煒",
      "photoUrl": "",
      "userId": "10865038187423164500"
     },
     "user_tz": -480
    },
    "id": "DmwdwRxCShCI",
    "outputId": "314ec706-0b7b-4237-94e2-27d99127717c"
   },
   "outputs": [
    {
     "name": "stdout",
     "output_type": "stream",
     "text": [
      "torch.Size([1, 6, 14, 14])\n",
      "torch.Size([1, 16, 5, 5])\n"
     ]
    }
   ],
   "source": [
    "print(outputs[0].shape)\n",
    "print(outputs[1].shape)"
   ]
  },
  {
   "cell_type": "markdown",
   "metadata": {
    "id": "nsQBPFnOShCI"
   },
   "source": [
    "## 加入自定義 initialization fuction"
   ]
  },
  {
   "cell_type": "markdown",
   "metadata": {
    "id": "IwO11AFJShCI"
   },
   "source": [
    "#### 對所有Conv2D層使用自定義initialization function\n",
    "* weight : nn.init.kaiming_normal_\n",
    "* bias : 全部輸入1"
   ]
  },
  {
   "cell_type": "code",
   "execution_count": 7,
   "metadata": {
    "colab": {
     "base_uri": "https://localhost:8080/"
    },
    "executionInfo": {
     "elapsed": 695,
     "status": "ok",
     "timestamp": 1609930155092,
     "user": {
      "displayName": "王俊煒",
      "photoUrl": "",
      "userId": "10865038187423164500"
     },
     "user_tz": -480
    },
    "id": "oGyM4XPlShCJ",
    "outputId": "797e1e1a-339a-4387-976f-c6f02db3465b"
   },
   "outputs": [
    {
     "data": {
      "text/plain": [
       "TheModelClass(\n",
       "  (conv1): Conv2d(3, 6, kernel_size=(5, 5), stride=(1, 1))\n",
       "  (pool): MaxPool2d(kernel_size=2, stride=2, padding=0, dilation=1, ceil_mode=False)\n",
       "  (conv2): Conv2d(6, 16, kernel_size=(5, 5), stride=(1, 1))\n",
       "  (fc1): Linear(in_features=400, out_features=120, bias=True)\n",
       "  (fc2): Linear(in_features=120, out_features=84, bias=True)\n",
       "  (fc3): Linear(in_features=84, out_features=10, bias=True)\n",
       ")"
      ]
     },
     "execution_count": 7,
     "metadata": {
      "tags": []
     },
     "output_type": "execute_result"
    }
   ],
   "source": [
    "from torch.nn import init\n",
    "\n",
    "def weights_init(m):\n",
    "    # classname = m.__class__.__name__\n",
    "    if isinstance(m, nn.Conv2d):\n",
    "        # torch.nn.init.xavier_uniform_(m.weight)\n",
    "        nn.init.kaiming_normal_(m.weight.data,\n",
    "                                a=0,\n",
    "                                mode='fan_out',\n",
    "                                nonlinearity='relu')\n",
    "        if m.bias is not None:\n",
    "            m.bias.data.fill_(1)\n",
    "            \n",
    "model.apply(weights_init)"
   ]
  },
  {
   "cell_type": "markdown",
   "metadata": {
    "id": "mujg7PJCShCJ"
   },
   "source": [
    "#### 查看 conv層的bias是否皆為1"
   ]
  },
  {
   "cell_type": "code",
   "execution_count": 8,
   "metadata": {
    "colab": {
     "base_uri": "https://localhost:8080/"
    },
    "executionInfo": {
     "elapsed": 706,
     "status": "ok",
     "timestamp": 1609930179189,
     "user": {
      "displayName": "王俊煒",
      "photoUrl": "",
      "userId": "10865038187423164500"
     },
     "user_tz": -480
    },
    "id": "BH_CQSpXShCJ",
    "outputId": "bb7c68d1-5e4f-4d5d-bf21-7baff9c756b2"
   },
   "outputs": [
    {
     "name": "stdout",
     "output_type": "stream",
     "text": [
      "conv1.bias Parameter containing:\n",
      "tensor([1., 1., 1., 1., 1., 1.], requires_grad=True)\n",
      "\n",
      "\n",
      "conv2.bias Parameter containing:\n",
      "tensor([1., 1., 1., 1., 1., 1., 1., 1., 1., 1., 1., 1., 1., 1., 1., 1.],\n",
      "       requires_grad=True)\n",
      "\n",
      "\n"
     ]
    }
   ],
   "source": [
    "for name, parameters in model.named_parameters():\n",
    "    if ('conv' in name) and ('bias' in name):\n",
    "        print(name, parameters)\n",
    "        print('\\n')"
   ]
  }
 ],
 "metadata": {
  "colab": {
   "collapsed_sections": [],
   "name": "Day8_作業.ipynb",
   "provenance": []
  },
  "kernelspec": {
   "display_name": "Python 3",
   "language": "python",
   "name": "python3"
  },
  "language_info": {
   "codemirror_mode": {
    "name": "ipython",
    "version": 3
   },
   "file_extension": ".py",
   "mimetype": "text/x-python",
   "name": "python",
   "nbconvert_exporter": "python",
   "pygments_lexer": "ipython3",
   "version": "3.7.8"
  }
 },
 "nbformat": 4,
 "nbformat_minor": 4
}
