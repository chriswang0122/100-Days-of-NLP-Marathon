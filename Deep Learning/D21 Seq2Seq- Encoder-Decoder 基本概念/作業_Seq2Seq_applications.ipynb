{
 "cells": [
  {
   "cell_type": "markdown",
   "metadata": {
    "id": "QN7P90TOJcLs"
   },
   "source": [
    "# 作業: Sequence to Sequence 可以做什麼？"
   ]
  },
  {
   "cell_type": "markdown",
   "metadata": {
    "id": "nVdX55IeJgaf"
   },
   "source": [
    "## [作業目標]\n",
    "瞭解目前 Seq2Seq 的應用領域"
   ]
  },
  {
   "cell_type": "markdown",
   "metadata": {
    "id": "8QZV1BhcNHtp"
   },
   "source": [
    "## [作業重點]\n",
    "查詢 Seq2Seq 的應用，瞭解 Seq2Seq 可以做些什麼事，瞭解一下涉及的領域應用背景"
   ]
  },
  {
   "cell_type": "markdown",
   "metadata": {
    "id": "QPYgcakvJzMk"
   },
   "source": [
    "# [問題]\n",
    "請學員網路查查有沒有其他更有用、有趣的 Seq2Seq 應用?"
   ]
  },
  {
   "cell_type": "markdown",
   "metadata": {
    "id": "m30djHaLEIIw"
   },
   "source": [
    "# [解答]\n",
    "- 語音識別(Speech Recognition)\n",
    "- 語音合成(Speech Synthesis)\n",
    "- 機器翻譯(Machine Translation)\n",
    "- 聊天機器人(Chatbot)\n",
    "- 文章摘要(Document Summarization)\n",
    "- 代碼補全(Code Autocomplete)\n",
    "- 影片標題(Image Caption)\n",
    "- 視覺敘事(Visual Storytelling)"
   ]
  }
 ],
 "metadata": {
  "colab": {
   "authorship_tag": "ABX9TyP5SMu80BhtPZI5gjU21jv4",
   "name": "作業_Seq2Seq_applications.ipynb",
   "provenance": []
  },
  "kernelspec": {
   "display_name": "Python 3",
   "language": "python",
   "name": "python3"
  },
  "language_info": {
   "codemirror_mode": {
    "name": "ipython",
    "version": 3
   },
   "file_extension": ".py",
   "mimetype": "text/x-python",
   "name": "python",
   "nbconvert_exporter": "python",
   "pygments_lexer": "ipython3",
   "version": "3.7.8"
  }
 },
 "nbformat": 4,
 "nbformat_minor": 4
}
