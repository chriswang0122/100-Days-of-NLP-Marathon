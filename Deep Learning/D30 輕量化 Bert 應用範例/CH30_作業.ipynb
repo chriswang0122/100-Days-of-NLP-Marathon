{
  "nbformat": 4,
  "nbformat_minor": 0,
  "metadata": {
    "colab": {
      "name": "new_CH30_作業.ipynb",
      "provenance": [],
      "collapsed_sections": [],
      "toc_visible": true
    },
    "kernelspec": {
      "display_name": "Python 3",
      "language": "python",
      "name": "python3"
    },
    "language_info": {
      "codemirror_mode": {
        "name": "ipython",
        "version": 3
      },
      "file_extension": ".py",
      "mimetype": "text/x-python",
      "name": "python",
      "nbconvert_exporter": "python",
      "pygments_lexer": "ipython3",
      "version": "3.6.9"
    },
    "accelerator": "GPU",
    "widgets": {
      "application/vnd.jupyter.widget-state+json": {
        "fdbda9872d614c6fb4b8fb0d34a7d52e": {
          "model_module": "@jupyter-widgets/controls",
          "model_name": "HBoxModel",
          "state": {
            "_view_name": "HBoxView",
            "_dom_classes": [],
            "_model_name": "HBoxModel",
            "_view_module": "@jupyter-widgets/controls",
            "_model_module_version": "1.5.0",
            "_view_count": null,
            "_view_module_version": "1.5.0",
            "box_style": "",
            "layout": "IPY_MODEL_c3ea3b5079104343b74833dc5e21caef",
            "_model_module": "@jupyter-widgets/controls",
            "children": [
              "IPY_MODEL_e2dd5aa6dbd64012b82291715aa04c7a",
              "IPY_MODEL_0ec0849da8fb497d943adca93bafd800"
            ]
          }
        },
        "c3ea3b5079104343b74833dc5e21caef": {
          "model_module": "@jupyter-widgets/base",
          "model_name": "LayoutModel",
          "state": {
            "_view_name": "LayoutView",
            "grid_template_rows": null,
            "right": null,
            "justify_content": null,
            "_view_module": "@jupyter-widgets/base",
            "overflow": null,
            "_model_module_version": "1.2.0",
            "_view_count": null,
            "flex_flow": null,
            "width": null,
            "min_width": null,
            "border": null,
            "align_items": null,
            "bottom": null,
            "_model_module": "@jupyter-widgets/base",
            "top": null,
            "grid_column": null,
            "overflow_y": null,
            "overflow_x": null,
            "grid_auto_flow": null,
            "grid_area": null,
            "grid_template_columns": null,
            "flex": null,
            "_model_name": "LayoutModel",
            "justify_items": null,
            "grid_row": null,
            "max_height": null,
            "align_content": null,
            "visibility": null,
            "align_self": null,
            "height": null,
            "min_height": null,
            "padding": null,
            "grid_auto_rows": null,
            "grid_gap": null,
            "max_width": null,
            "order": null,
            "_view_module_version": "1.2.0",
            "grid_template_areas": null,
            "object_position": null,
            "object_fit": null,
            "grid_auto_columns": null,
            "margin": null,
            "display": null,
            "left": null
          }
        },
        "e2dd5aa6dbd64012b82291715aa04c7a": {
          "model_module": "@jupyter-widgets/controls",
          "model_name": "FloatProgressModel",
          "state": {
            "_view_name": "ProgressView",
            "style": "IPY_MODEL_78f2947e99af4cad8c9eac54fbca568c",
            "_dom_classes": [],
            "description": "Downloading: 100%",
            "_model_name": "FloatProgressModel",
            "bar_style": "success",
            "max": 433,
            "_view_module": "@jupyter-widgets/controls",
            "_model_module_version": "1.5.0",
            "value": 433,
            "_view_count": null,
            "_view_module_version": "1.5.0",
            "orientation": "horizontal",
            "min": 0,
            "description_tooltip": null,
            "_model_module": "@jupyter-widgets/controls",
            "layout": "IPY_MODEL_e0eafd7875474e46b088cae570f9bdda"
          }
        },
        "0ec0849da8fb497d943adca93bafd800": {
          "model_module": "@jupyter-widgets/controls",
          "model_name": "HTMLModel",
          "state": {
            "_view_name": "HTMLView",
            "style": "IPY_MODEL_a21f245580074967b8a89f8220ab2088",
            "_dom_classes": [],
            "description": "",
            "_model_name": "HTMLModel",
            "placeholder": "​",
            "_view_module": "@jupyter-widgets/controls",
            "_model_module_version": "1.5.0",
            "value": " 433/433 [00:00&lt;00:00, 7.08kB/s]",
            "_view_count": null,
            "_view_module_version": "1.5.0",
            "description_tooltip": null,
            "_model_module": "@jupyter-widgets/controls",
            "layout": "IPY_MODEL_daadec3959fb48368bb4abef187af630"
          }
        },
        "78f2947e99af4cad8c9eac54fbca568c": {
          "model_module": "@jupyter-widgets/controls",
          "model_name": "ProgressStyleModel",
          "state": {
            "_view_name": "StyleView",
            "_model_name": "ProgressStyleModel",
            "description_width": "initial",
            "_view_module": "@jupyter-widgets/base",
            "_model_module_version": "1.5.0",
            "_view_count": null,
            "_view_module_version": "1.2.0",
            "bar_color": null,
            "_model_module": "@jupyter-widgets/controls"
          }
        },
        "e0eafd7875474e46b088cae570f9bdda": {
          "model_module": "@jupyter-widgets/base",
          "model_name": "LayoutModel",
          "state": {
            "_view_name": "LayoutView",
            "grid_template_rows": null,
            "right": null,
            "justify_content": null,
            "_view_module": "@jupyter-widgets/base",
            "overflow": null,
            "_model_module_version": "1.2.0",
            "_view_count": null,
            "flex_flow": null,
            "width": null,
            "min_width": null,
            "border": null,
            "align_items": null,
            "bottom": null,
            "_model_module": "@jupyter-widgets/base",
            "top": null,
            "grid_column": null,
            "overflow_y": null,
            "overflow_x": null,
            "grid_auto_flow": null,
            "grid_area": null,
            "grid_template_columns": null,
            "flex": null,
            "_model_name": "LayoutModel",
            "justify_items": null,
            "grid_row": null,
            "max_height": null,
            "align_content": null,
            "visibility": null,
            "align_self": null,
            "height": null,
            "min_height": null,
            "padding": null,
            "grid_auto_rows": null,
            "grid_gap": null,
            "max_width": null,
            "order": null,
            "_view_module_version": "1.2.0",
            "grid_template_areas": null,
            "object_position": null,
            "object_fit": null,
            "grid_auto_columns": null,
            "margin": null,
            "display": null,
            "left": null
          }
        },
        "a21f245580074967b8a89f8220ab2088": {
          "model_module": "@jupyter-widgets/controls",
          "model_name": "DescriptionStyleModel",
          "state": {
            "_view_name": "StyleView",
            "_model_name": "DescriptionStyleModel",
            "description_width": "",
            "_view_module": "@jupyter-widgets/base",
            "_model_module_version": "1.5.0",
            "_view_count": null,
            "_view_module_version": "1.2.0",
            "_model_module": "@jupyter-widgets/controls"
          }
        },
        "daadec3959fb48368bb4abef187af630": {
          "model_module": "@jupyter-widgets/base",
          "model_name": "LayoutModel",
          "state": {
            "_view_name": "LayoutView",
            "grid_template_rows": null,
            "right": null,
            "justify_content": null,
            "_view_module": "@jupyter-widgets/base",
            "overflow": null,
            "_model_module_version": "1.2.0",
            "_view_count": null,
            "flex_flow": null,
            "width": null,
            "min_width": null,
            "border": null,
            "align_items": null,
            "bottom": null,
            "_model_module": "@jupyter-widgets/base",
            "top": null,
            "grid_column": null,
            "overflow_y": null,
            "overflow_x": null,
            "grid_auto_flow": null,
            "grid_area": null,
            "grid_template_columns": null,
            "flex": null,
            "_model_name": "LayoutModel",
            "justify_items": null,
            "grid_row": null,
            "max_height": null,
            "align_content": null,
            "visibility": null,
            "align_self": null,
            "height": null,
            "min_height": null,
            "padding": null,
            "grid_auto_rows": null,
            "grid_gap": null,
            "max_width": null,
            "order": null,
            "_view_module_version": "1.2.0",
            "grid_template_areas": null,
            "object_position": null,
            "object_fit": null,
            "grid_auto_columns": null,
            "margin": null,
            "display": null,
            "left": null
          }
        },
        "b6870616ab9b459481b04d1087f44b24": {
          "model_module": "@jupyter-widgets/controls",
          "model_name": "HBoxModel",
          "state": {
            "_view_name": "HBoxView",
            "_dom_classes": [],
            "_model_name": "HBoxModel",
            "_view_module": "@jupyter-widgets/controls",
            "_model_module_version": "1.5.0",
            "_view_count": null,
            "_view_module_version": "1.5.0",
            "box_style": "",
            "layout": "IPY_MODEL_b4c590742a104dbfb949679eeb6a8719",
            "_model_module": "@jupyter-widgets/controls",
            "children": [
              "IPY_MODEL_efbaeaba076b4ea8973ca3eb42978b8a",
              "IPY_MODEL_e0561fedcebc448f9a480202559de1fb"
            ]
          }
        },
        "b4c590742a104dbfb949679eeb6a8719": {
          "model_module": "@jupyter-widgets/base",
          "model_name": "LayoutModel",
          "state": {
            "_view_name": "LayoutView",
            "grid_template_rows": null,
            "right": null,
            "justify_content": null,
            "_view_module": "@jupyter-widgets/base",
            "overflow": null,
            "_model_module_version": "1.2.0",
            "_view_count": null,
            "flex_flow": null,
            "width": null,
            "min_width": null,
            "border": null,
            "align_items": null,
            "bottom": null,
            "_model_module": "@jupyter-widgets/base",
            "top": null,
            "grid_column": null,
            "overflow_y": null,
            "overflow_x": null,
            "grid_auto_flow": null,
            "grid_area": null,
            "grid_template_columns": null,
            "flex": null,
            "_model_name": "LayoutModel",
            "justify_items": null,
            "grid_row": null,
            "max_height": null,
            "align_content": null,
            "visibility": null,
            "align_self": null,
            "height": null,
            "min_height": null,
            "padding": null,
            "grid_auto_rows": null,
            "grid_gap": null,
            "max_width": null,
            "order": null,
            "_view_module_version": "1.2.0",
            "grid_template_areas": null,
            "object_position": null,
            "object_fit": null,
            "grid_auto_columns": null,
            "margin": null,
            "display": null,
            "left": null
          }
        },
        "efbaeaba076b4ea8973ca3eb42978b8a": {
          "model_module": "@jupyter-widgets/controls",
          "model_name": "FloatProgressModel",
          "state": {
            "_view_name": "ProgressView",
            "style": "IPY_MODEL_7430d4abc63b4724bf9250e7136a5225",
            "_dom_classes": [],
            "description": "Downloading: 100%",
            "_model_name": "FloatProgressModel",
            "bar_style": "success",
            "max": 440473133,
            "_view_module": "@jupyter-widgets/controls",
            "_model_module_version": "1.5.0",
            "value": 440473133,
            "_view_count": null,
            "_view_module_version": "1.5.0",
            "orientation": "horizontal",
            "min": 0,
            "description_tooltip": null,
            "_model_module": "@jupyter-widgets/controls",
            "layout": "IPY_MODEL_7bec927c59334318bf1e83a4f3efd6e0"
          }
        },
        "e0561fedcebc448f9a480202559de1fb": {
          "model_module": "@jupyter-widgets/controls",
          "model_name": "HTMLModel",
          "state": {
            "_view_name": "HTMLView",
            "style": "IPY_MODEL_f447246ed7794c9e8bc2cf86845d53b2",
            "_dom_classes": [],
            "description": "",
            "_model_name": "HTMLModel",
            "placeholder": "​",
            "_view_module": "@jupyter-widgets/controls",
            "_model_module_version": "1.5.0",
            "value": " 440M/440M [00:05&lt;00:00, 73.8MB/s]",
            "_view_count": null,
            "_view_module_version": "1.5.0",
            "description_tooltip": null,
            "_model_module": "@jupyter-widgets/controls",
            "layout": "IPY_MODEL_4a73361d29bb44499abbbcb4c63a5440"
          }
        },
        "7430d4abc63b4724bf9250e7136a5225": {
          "model_module": "@jupyter-widgets/controls",
          "model_name": "ProgressStyleModel",
          "state": {
            "_view_name": "StyleView",
            "_model_name": "ProgressStyleModel",
            "description_width": "initial",
            "_view_module": "@jupyter-widgets/base",
            "_model_module_version": "1.5.0",
            "_view_count": null,
            "_view_module_version": "1.2.0",
            "bar_color": null,
            "_model_module": "@jupyter-widgets/controls"
          }
        },
        "7bec927c59334318bf1e83a4f3efd6e0": {
          "model_module": "@jupyter-widgets/base",
          "model_name": "LayoutModel",
          "state": {
            "_view_name": "LayoutView",
            "grid_template_rows": null,
            "right": null,
            "justify_content": null,
            "_view_module": "@jupyter-widgets/base",
            "overflow": null,
            "_model_module_version": "1.2.0",
            "_view_count": null,
            "flex_flow": null,
            "width": null,
            "min_width": null,
            "border": null,
            "align_items": null,
            "bottom": null,
            "_model_module": "@jupyter-widgets/base",
            "top": null,
            "grid_column": null,
            "overflow_y": null,
            "overflow_x": null,
            "grid_auto_flow": null,
            "grid_area": null,
            "grid_template_columns": null,
            "flex": null,
            "_model_name": "LayoutModel",
            "justify_items": null,
            "grid_row": null,
            "max_height": null,
            "align_content": null,
            "visibility": null,
            "align_self": null,
            "height": null,
            "min_height": null,
            "padding": null,
            "grid_auto_rows": null,
            "grid_gap": null,
            "max_width": null,
            "order": null,
            "_view_module_version": "1.2.0",
            "grid_template_areas": null,
            "object_position": null,
            "object_fit": null,
            "grid_auto_columns": null,
            "margin": null,
            "display": null,
            "left": null
          }
        },
        "f447246ed7794c9e8bc2cf86845d53b2": {
          "model_module": "@jupyter-widgets/controls",
          "model_name": "DescriptionStyleModel",
          "state": {
            "_view_name": "StyleView",
            "_model_name": "DescriptionStyleModel",
            "description_width": "",
            "_view_module": "@jupyter-widgets/base",
            "_model_module_version": "1.5.0",
            "_view_count": null,
            "_view_module_version": "1.2.0",
            "_model_module": "@jupyter-widgets/controls"
          }
        },
        "4a73361d29bb44499abbbcb4c63a5440": {
          "model_module": "@jupyter-widgets/base",
          "model_name": "LayoutModel",
          "state": {
            "_view_name": "LayoutView",
            "grid_template_rows": null,
            "right": null,
            "justify_content": null,
            "_view_module": "@jupyter-widgets/base",
            "overflow": null,
            "_model_module_version": "1.2.0",
            "_view_count": null,
            "flex_flow": null,
            "width": null,
            "min_width": null,
            "border": null,
            "align_items": null,
            "bottom": null,
            "_model_module": "@jupyter-widgets/base",
            "top": null,
            "grid_column": null,
            "overflow_y": null,
            "overflow_x": null,
            "grid_auto_flow": null,
            "grid_area": null,
            "grid_template_columns": null,
            "flex": null,
            "_model_name": "LayoutModel",
            "justify_items": null,
            "grid_row": null,
            "max_height": null,
            "align_content": null,
            "visibility": null,
            "align_self": null,
            "height": null,
            "min_height": null,
            "padding": null,
            "grid_auto_rows": null,
            "grid_gap": null,
            "max_width": null,
            "order": null,
            "_view_module_version": "1.2.0",
            "grid_template_areas": null,
            "object_position": null,
            "object_fit": null,
            "grid_auto_columns": null,
            "margin": null,
            "display": null,
            "left": null
          }
        }
      }
    }
  },
  "cells": [
    {
      "cell_type": "markdown",
      "metadata": {
        "id": "Espmt1-2ppBm"
      },
      "source": [
        "# 作業：微調輕量化 Bert 預訓練模型\r\n",
        "***\r\n",
        "\r\n",
        "## [作業目標]\r\n",
        "- 觀察 distilBERT 及 Bert 模型的表現\r\n",
        "- 瞭解前處理對輕量化 Bert 模型帶來的影響\r\n",
        "\r\n",
        "## [作業重點]\r\n",
        "- 試著替換不同的預訓練模型(DistilBERT/Bert)，觀察有何不同\r\n",
        "- 試著註解或跳過\"前處理\"的3個步驟，觀察其影響"
      ]
    },
    {
      "cell_type": "code",
      "metadata": {
        "id": "G1oXuLTcppBr"
      },
      "source": [
        "import re\n",
        "import string\n",
        "import numpy as np\n",
        "import pandas as pd\n",
        "import torch\n",
        "from torch.utils.data import TensorDataset, DataLoader\n",
        "from transformers import DistilBertModel, DistilBertTokenizer, BertModel, BertTokenizer\n",
        "from sklearn.linear_model import LogisticRegression\n",
        "from sklearn.model_selection import train_test_split, GridSearchCV\n",
        "\n",
        "import warnings\n",
        "warnings.filterwarnings(\"ignore\")"
      ],
      "execution_count": 1,
      "outputs": []
    },
    {
      "cell_type": "markdown",
      "metadata": {
        "id": "_OCTYYUfr-YC"
      },
      "source": [
        "## 載入訓練與測試資料"
      ]
    },
    {
      "cell_type": "code",
      "metadata": {
        "id": "4s5NymBappBr"
      },
      "source": [
        "df_train = pd.read_csv('data/train.csv')\n",
        "df_test = pd.read_csv('data/test.csv') "
      ],
      "execution_count": 2,
      "outputs": []
    },
    {
      "cell_type": "markdown",
      "metadata": {
        "id": "HxfcJgfFppBs"
      },
      "source": [
        "## 前處理"
      ]
    },
    {
      "cell_type": "code",
      "metadata": {
        "id": "0B5wjrQyppBs"
      },
      "source": [
        "# 前處理-1: 消除連字\n",
        "# def decontracted(text):\n",
        "#     # 特殊連字\n",
        "#     text = re.sub(r'(W|w)on(\\'|\\’)t ', 'will not ', text)\n",
        "#     text = re.sub(r'(C|c)an(\\'|\\’)t ', 'can not ', text)\n",
        "#     text = re.sub(r'(Y|y)(\\'|\\’)all ', 'you all ', text)\n",
        "#     text = re.sub(r'(Y|y)a(\\'|\\’)ll ', 'you all ', text)\n",
        "#     # 一般連字\n",
        "#     text = re.sub(r'(I|i)(\\'|\\’)m ', 'i am ', text)\n",
        "#     text = re.sub(r'(A|a)in(\\'|\\’)t ', 'is not ', text)\n",
        "#     text = re.sub(r'n(\\'|\\’)t ', ' not ', text)\n",
        "#     text = re.sub(r'(\\'|\\’)re ', ' are ', text)\n",
        "#     text = re.sub(r'(\\'|\\’)s ', ' is ', text)\n",
        "#     text = re.sub(r'(\\'|\\’)d ', ' would ', text)\n",
        "#     text = re.sub(r'(\\'|\\’)ll ', ' will ', text)\n",
        "#     text = re.sub(r'(\\'|\\’)t ', ' not ', text)\n",
        "#     text = re.sub(r'(\\'|\\’)ve ', ' have ', text)\n",
        "\n",
        "#     return text\n",
        "\n",
        "# df_train['text'] = df_train['text'].apply(lambda x: decontracted(x))\n",
        "# df_test['text'] = df_test['text'].apply(lambda x: decontracted(x))"
      ],
      "execution_count": 3,
      "outputs": []
    },
    {
      "cell_type": "code",
      "metadata": {
        "id": "g-O55RKCppBs"
      },
      "source": [
        "# 前處理-2: 清除特殊符號\n",
        "# regular_punct = list(string.punctuation)\n",
        "# extra_punct = [\n",
        "#     ',', '.', '\"', ':', ')', '(', '!', '?', '|', ';', \"'\", '$', '&',\n",
        "#     '/', '[', ']', '>', '%', '=', '#', '*', '+', '\\\\', '•',  '~', '@', '£',\n",
        "#     '·', '_', '{', '}', '©', '^', '®', '`',  '<', '→', '°', '€', '™', '›',\n",
        "#     '♥', '←', '×', '§', '″', '′', 'Â', '█', '½', 'à', '…', '“', '★', '”',\n",
        "#     '–', '●', 'â', '►', '−', '¢', '²', '¬', '░', '¶', '↑', '±', '¿', '▾',\n",
        "#     '═', '¦', '║', '―', '¥', '▓', '—', '‹', '─', '▒', '：', '¼', '⊕', '▼',\n",
        "#     '▪', '†', '■', '’', '▀', '¨', '▄', '♫', '☆', 'é', '¯', '♦', '¤', '▲',\n",
        "#     'è', '¸', '¾', 'Ã', '⋅', '‘', '∞', '∙', '）', '↓', '、', '│', '（', '»',\n",
        "#     '，', '♪', '╩', '╚', '³', '・', '╦', '╣', '╔', '╗', '▬', '❤', 'ï', 'Ø',\n",
        "#     '¹', '≤', '‡', '√', '«', '»', '´', 'º', '¾', '¡', '§', '£', '₤'\n",
        "# ]\n",
        "# # 清除標點符號以及上列符號\n",
        "# all_punct = list(set(regular_punct + extra_punct))\n",
        "# # 清除連字號 \"-\" 以及句號 \".\"\n",
        "# all_punct.remove('-')\n",
        "# all_punct.remove('.')\n",
        "\n",
        "# def spacing_punctuation(text):\n",
        "#     \"\"\"\n",
        "#     add space before and after punctuation and symbols\n",
        "#     \"\"\"\n",
        "#     for punc in all_punct:\n",
        "#         if punc in text:\n",
        "#             text = text.replace(punc, f' {punc} ')\n",
        "\n",
        "#     return text\n",
        "\n",
        "# df_train['text'] = df_train['text'].apply(lambda x: spacing_punctuation(x))\n",
        "# df_test['text'] = df_test['text'].apply(lambda x: spacing_punctuation(x))"
      ],
      "execution_count": 4,
      "outputs": []
    },
    {
      "cell_type": "code",
      "metadata": {
        "id": "YHBtYlDLppBs"
      },
      "source": [
        "# 前處理-3: 錯漏字修正\n",
        "# mis_connect_list = ['(W|w)hat', '(W|w)hy', '(H|h)ow', '(W|w)hich', '(W|w)here', '(W|w)ill']\n",
        "# mis_connect_re = re.compile(f\"({'|'.join(mis_connect_list)})\")\n",
        "\n",
        "# mis_spell_mapping = {'whattsup': 'WhatsApp', 'whatasapp': 'WhatsApp', 'whatsupp': 'WhatsApp', \n",
        "#                      'whatcus': 'what cause', 'arewhatsapp': 'are WhatsApp', 'Hwhat': 'what',\n",
        "#                      'Whwhat': 'What', 'whatshapp': 'WhatsApp', 'howhat': 'how that',\n",
        "#                      # why\n",
        "#                      'Whybis': 'Why is', 'laowhy86': 'Foreigners who do not respect China',\n",
        "#                      'Whyco-education': 'Why co-education',\n",
        "#                      # How\n",
        "#                      'Howddo': 'How do', 'Howeber': 'However', 'Showh': 'Show',\n",
        "#                      'Willowmagic': 'Willow magic', 'WillsEye': 'Will Eye', 'Williby': 'will by'}\n",
        "\n",
        "# def spacing_some_connect_words(text):\n",
        "#     '''\n",
        "#     'Whyare' -> 'Why are'\n",
        "#     '''\n",
        "#     ori = text\n",
        "#     for error in mis_spell_mapping:\n",
        "#         if error in text:\n",
        "#             text = text.replace(error, mis_spell_mapping[error])\n",
        "            \n",
        "#     # what\n",
        "#     text = re.sub(r' (W|w)hat+(s)*[A|a]*(p)+ ', ' WhatsApp ', text)\n",
        "#     text = re.sub(r' (W|w)hat\\S ', ' What ', text)\n",
        "#     text = re.sub(r' \\S(W|w)hat ', ' What ', text)\n",
        "#     # why\n",
        "#     text = re.sub(r' (W|w)hy\\S ', ' Why ', text)\n",
        "#     text = re.sub(r' \\S(W|w)hy ', ' Why ', text)\n",
        "#     # How\n",
        "#     text = re.sub(r' (H|h)ow\\S ', ' How ', text)\n",
        "#     text = re.sub(r' \\S(H|h)ow ', ' How ', text)\n",
        "#     # which\n",
        "#     text = re.sub(r' (W|w)hich\\S ', ' Which ', text)\n",
        "#     text = re.sub(r' \\S(W|w)hich ', ' Which ', text)\n",
        "#     # where\n",
        "#     text = re.sub(r' (W|w)here\\S ', ' Where ', text)\n",
        "#     text = re.sub(r' \\S(W|w)here ', ' Where ', text)\n",
        "    \n",
        "#     text = mis_connect_re.sub(r' \\1 ', text)\n",
        "#     text = text.replace('What sApp', 'WhatsApp') \n",
        "\n",
        "#     return text\n",
        "\n",
        "# df_train['text'] = df_train['text'].apply(lambda x: spacing_some_connect_words(x))\n",
        "# df_test['text'] = df_test['text'].apply(lambda x: spacing_some_connect_words(x))"
      ],
      "execution_count": 5,
      "outputs": []
    },
    {
      "cell_type": "code",
      "metadata": {
        "colab": {
          "base_uri": "https://localhost:8080/",
          "height": 204
        },
        "id": "ztPU7tH5ppBt",
        "outputId": "dedf1f62-a409-4904-80ab-83f01b3353a4"
      },
      "source": [
        "df_train.head()"
      ],
      "execution_count": 6,
      "outputs": [
        {
          "output_type": "execute_result",
          "data": {
            "text/html": [
              "<div>\n",
              "<style scoped>\n",
              "    .dataframe tbody tr th:only-of-type {\n",
              "        vertical-align: middle;\n",
              "    }\n",
              "\n",
              "    .dataframe tbody tr th {\n",
              "        vertical-align: top;\n",
              "    }\n",
              "\n",
              "    .dataframe thead th {\n",
              "        text-align: right;\n",
              "    }\n",
              "</style>\n",
              "<table border=\"1\" class=\"dataframe\">\n",
              "  <thead>\n",
              "    <tr style=\"text-align: right;\">\n",
              "      <th></th>\n",
              "      <th>id</th>\n",
              "      <th>keyword</th>\n",
              "      <th>location</th>\n",
              "      <th>text</th>\n",
              "      <th>target</th>\n",
              "    </tr>\n",
              "  </thead>\n",
              "  <tbody>\n",
              "    <tr>\n",
              "      <th>0</th>\n",
              "      <td>1</td>\n",
              "      <td>NaN</td>\n",
              "      <td>NaN</td>\n",
              "      <td>Our Deeds are the Reason of this #earthquake M...</td>\n",
              "      <td>1</td>\n",
              "    </tr>\n",
              "    <tr>\n",
              "      <th>1</th>\n",
              "      <td>4</td>\n",
              "      <td>NaN</td>\n",
              "      <td>NaN</td>\n",
              "      <td>Forest fire near La Ronge Sask. Canada</td>\n",
              "      <td>1</td>\n",
              "    </tr>\n",
              "    <tr>\n",
              "      <th>2</th>\n",
              "      <td>5</td>\n",
              "      <td>NaN</td>\n",
              "      <td>NaN</td>\n",
              "      <td>All residents asked to 'shelter in place' are ...</td>\n",
              "      <td>1</td>\n",
              "    </tr>\n",
              "    <tr>\n",
              "      <th>3</th>\n",
              "      <td>6</td>\n",
              "      <td>NaN</td>\n",
              "      <td>NaN</td>\n",
              "      <td>13,000 people receive #wildfires evacuation or...</td>\n",
              "      <td>1</td>\n",
              "    </tr>\n",
              "    <tr>\n",
              "      <th>4</th>\n",
              "      <td>7</td>\n",
              "      <td>NaN</td>\n",
              "      <td>NaN</td>\n",
              "      <td>Just got sent this photo from Ruby #Alaska as ...</td>\n",
              "      <td>1</td>\n",
              "    </tr>\n",
              "  </tbody>\n",
              "</table>\n",
              "</div>"
            ],
            "text/plain": [
              "   id keyword  ...                                               text target\n",
              "0   1     NaN  ...  Our Deeds are the Reason of this #earthquake M...      1\n",
              "1   4     NaN  ...             Forest fire near La Ronge Sask. Canada      1\n",
              "2   5     NaN  ...  All residents asked to 'shelter in place' are ...      1\n",
              "3   6     NaN  ...  13,000 people receive #wildfires evacuation or...      1\n",
              "4   7     NaN  ...  Just got sent this photo from Ruby #Alaska as ...      1\n",
              "\n",
              "[5 rows x 5 columns]"
            ]
          },
          "metadata": {
            "tags": []
          },
          "execution_count": 6
        }
      ]
    },
    {
      "cell_type": "markdown",
      "metadata": {
        "id": "JpO48fHzppBu"
      },
      "source": [
        "## 載入 distilBERT 或 Bert 模型將文字編碼"
      ]
    },
    {
      "cell_type": "code",
      "metadata": {
        "id": "KVmBVr3MppBu",
        "colab": {
          "base_uri": "https://localhost:8080/",
          "height": 115,
          "referenced_widgets": [
            "fdbda9872d614c6fb4b8fb0d34a7d52e",
            "c3ea3b5079104343b74833dc5e21caef",
            "e2dd5aa6dbd64012b82291715aa04c7a",
            "0ec0849da8fb497d943adca93bafd800",
            "78f2947e99af4cad8c9eac54fbca568c",
            "e0eafd7875474e46b088cae570f9bdda",
            "a21f245580074967b8a89f8220ab2088",
            "daadec3959fb48368bb4abef187af630",
            "b6870616ab9b459481b04d1087f44b24",
            "b4c590742a104dbfb949679eeb6a8719",
            "efbaeaba076b4ea8973ca3eb42978b8a",
            "e0561fedcebc448f9a480202559de1fb",
            "7430d4abc63b4724bf9250e7136a5225",
            "7bec927c59334318bf1e83a4f3efd6e0",
            "f447246ed7794c9e8bc2cf86845d53b2",
            "4a73361d29bb44499abbbcb4c63a5440"
          ]
        },
        "outputId": "d0ffeff6-4bd5-4ae2-e3e7-58c700ca2d4e"
      },
      "source": [
        "device = torch.device('cuda' if torch.cuda.is_available() else 'cpu')\n",
        "\n",
        "# 載入 distilBERT 或 Bert 模型 (下列兩行中，將不選的模型註解掉即可)\n",
        "# model_class, tokenizer_class, pretrained_weights = (DistilBertModel, DistilBertTokenizer, 'distilbert-base-uncased')\n",
        "model_class, tokenizer_class, pretrained_weights = (BertModel, BertTokenizer, 'bert-base-uncased')\n",
        "\n",
        "# 載入預訓練權重以及 tokenizer\n",
        "tokenizer = tokenizer_class.from_pretrained(pretrained_weights)\n",
        "model = model_class.from_pretrained(pretrained_weights).to(device)"
      ],
      "execution_count": 7,
      "outputs": [
        {
          "output_type": "display_data",
          "data": {
            "application/vnd.jupyter.widget-view+json": {
              "model_id": "fdbda9872d614c6fb4b8fb0d34a7d52e",
              "version_minor": 0,
              "version_major": 2
            },
            "text/plain": [
              "HBox(children=(FloatProgress(value=0.0, description='Downloading', max=433.0, style=ProgressStyle(description_…"
            ]
          },
          "metadata": {
            "tags": []
          }
        },
        {
          "output_type": "stream",
          "text": [
            "\n"
          ],
          "name": "stdout"
        },
        {
          "output_type": "display_data",
          "data": {
            "application/vnd.jupyter.widget-view+json": {
              "model_id": "b6870616ab9b459481b04d1087f44b24",
              "version_minor": 0,
              "version_major": 2
            },
            "text/plain": [
              "HBox(children=(FloatProgress(value=0.0, description='Downloading', max=440473133.0, style=ProgressStyle(descri…"
            ]
          },
          "metadata": {
            "tags": []
          }
        },
        {
          "output_type": "stream",
          "text": [
            "\n"
          ],
          "name": "stdout"
        }
      ]
    },
    {
      "cell_type": "markdown",
      "metadata": {
        "id": "VHJpIaMsppBu"
      },
      "source": [
        "## 將訓練資料經由 distilBERT 或 Bert 轉換為 Embedding 編碼"
      ]
    },
    {
      "cell_type": "code",
      "metadata": {
        "id": "WmHHZSv2ppBu"
      },
      "source": [
        "# 將訓練資料經過 tokenizer 編碼轉換\n",
        "tokenized_train = df_train['text'].apply((lambda x: tokenizer.encode(x, add_special_tokens=True)))"
      ],
      "execution_count": 8,
      "outputs": []
    },
    {
      "cell_type": "code",
      "metadata": {
        "id": "y-IsPGgdppBv"
      },
      "source": [
        "# 以最長字串為準，將訓練資料補零成相同長度\n",
        "max_len = max([len(tokens) for tokens in tokenized_train.values])\n",
        "padded_train = np.array([x + [0] * (max_len - len(x)) for x in tokenized_train.values])"
      ],
      "execution_count": 9,
      "outputs": []
    },
    {
      "cell_type": "code",
      "metadata": {
        "id": "bLi-r0IUppBv"
      },
      "source": [
        "# 設定 attention_mask，將計算經過 Bert 生成的 Embedding 結果，儲存於 last_hidden_states 中\n",
        "attention_mask = np.where(padded_train != 0, 1, 0)\n",
        "input_ids = torch.LongTensor(padded_train).to(device)\n",
        "attention_mask = torch.LongTensor(attention_mask).to(device)\n",
        "\n",
        "training_data = TensorDataset(input_ids, attention_mask)\n",
        "training_loader = DataLoader(training_data, 100)\n",
        "\n",
        "last_hidden_states = []\n",
        "with torch.no_grad():\n",
        "    for batch in training_loader:\n",
        "        ids, mask = [x.to(device) for x in batch]\n",
        "        last_hidden_states.append(model(ids, attention_mask=mask)[0][:, 0,:].cpu())\n",
        "last_hidden_states = torch.cat(last_hidden_states, dim=0)"
      ],
      "execution_count": 10,
      "outputs": []
    },
    {
      "cell_type": "code",
      "metadata": {
        "id": "sWkJiePfppBv",
        "colab": {
          "base_uri": "https://localhost:8080/"
        },
        "outputId": "dede8c3a-db14-4466-a347-2b2972666d10"
      },
      "source": [
        "# 準備下一階段要用的特徵(上階段 Embedding 結果)與目標值\n",
        "labels = df_train['target']\n",
        "features = last_hidden_states.numpy()\n",
        "features.shape"
      ],
      "execution_count": 11,
      "outputs": [
        {
          "output_type": "execute_result",
          "data": {
            "text/plain": [
              "(7613, 768)"
            ]
          },
          "metadata": {
            "tags": []
          },
          "execution_count": 11
        }
      ]
    },
    {
      "cell_type": "markdown",
      "metadata": {
        "id": "8Wc_LeAYxExO"
      },
      "source": [
        "## 切割訓練/測試集"
      ]
    },
    {
      "cell_type": "code",
      "metadata": {
        "id": "tZfl4vDxppBv"
      },
      "source": [
        "train_features, val_features, train_labels, val_labels = train_test_split(features, labels)"
      ],
      "execution_count": 12,
      "outputs": []
    },
    {
      "cell_type": "markdown",
      "metadata": {
        "id": "0EJ19JqMppBv"
      },
      "source": [
        "## 使用 Logistic Regression 當作最後一層, 輸出預測結果"
      ]
    },
    {
      "cell_type": "code",
      "metadata": {
        "id": "xteqyp-wppBv",
        "colab": {
          "base_uri": "https://localhost:8080/"
        },
        "outputId": "54173dbf-72ee-4f20-8458-16f047f958d3"
      },
      "source": [
        "# 訓練 Logistic Regression, 相當於加上單層類神經網路\n",
        "parameters = {'C': np.linspace(0.0001, 100, 20)}\n",
        "grid_search = GridSearchCV(LogisticRegression(), parameters)\n",
        "grid_search.fit(train_features, train_labels)\n",
        "print('best parameters:', grid_search.best_params_)\n",
        "print('best scrores:', grid_search.best_score_)"
      ],
      "execution_count": 13,
      "outputs": [
        {
          "output_type": "stream",
          "text": [
            "best parameters: {'C': 36.842168421052634}\n",
            "best scrores: 0.78402605635208\n"
          ],
          "name": "stdout"
        }
      ]
    },
    {
      "cell_type": "code",
      "metadata": {
        "id": "EEStUs6GppBw",
        "colab": {
          "base_uri": "https://localhost:8080/"
        },
        "outputId": "94a744f7-bc7f-4144-cd82-48daa91bdd7f"
      },
      "source": [
        "# 將跑出的 Logistic Regression 最佳 C 值填入, 觀察測試集的驗證分數\n",
        "lr_clf = LogisticRegression(C=grid_search.best_params_['C'])\n",
        "lr_clf.fit(train_features, train_labels)\n",
        "lr_clf.score(val_features, val_labels)"
      ],
      "execution_count": 14,
      "outputs": [
        {
          "output_type": "execute_result",
          "data": {
            "text/plain": [
              "0.803046218487395"
            ]
          },
          "metadata": {
            "tags": []
          },
          "execution_count": 14
        }
      ]
    },
    {
      "cell_type": "markdown",
      "metadata": {
        "id": "ajVT4zm9ppBw"
      },
      "source": [
        "## 對預測目標資料做出最終預測"
      ]
    },
    {
      "cell_type": "code",
      "metadata": {
        "id": "NBCKKAlwppBw"
      },
      "source": [
        "# 將預測目標資料經過 tokenizer 編碼轉換\n",
        "tokenized_test = df_test['text'].apply(lambda x: tokenizer.encode(x, add_special_tokens=True))"
      ],
      "execution_count": 15,
      "outputs": []
    },
    {
      "cell_type": "code",
      "metadata": {
        "id": "zSZZ4Y-dppBw"
      },
      "source": [
        "# 以最長字串為準, 將預測目標資料補零成相同長度\n",
        "max_len = max([len(tokens) for tokens in tokenized_test.values])\n",
        "padded_test = np.array([x + [0] * (max_len - len(x)) for x in tokenized_test.values])"
      ],
      "execution_count": 16,
      "outputs": []
    },
    {
      "cell_type": "code",
      "metadata": {
        "id": "qR4wZRg7ppBw"
      },
      "source": [
        "# 設定 attention_mask，將計算經過 Bert 生成的 Embedding 結果，儲存於 last_hidden_states 中\n",
        "attention_mask = np.where(padded_test != 0, 1, 0)\n",
        "input_ids = torch.LongTensor(padded_test).to(device)\n",
        "attention_mask = torch.LongTensor(attention_mask).to(device)\n",
        "\n",
        "test_data = TensorDataset(input_ids, attention_mask)\n",
        "test_loader = DataLoader(test_data, 100)\n",
        "\n",
        "last_hidden_states = []\n",
        "with torch.no_grad():\n",
        "    for batch in test_loader:\n",
        "        ids, mask = [x.to(device) for x in batch]\n",
        "        last_hidden_states.append(model(ids, attention_mask=mask)[0][:, 0,:].cpu())\n",
        "last_hidden_states = torch.cat(last_hidden_states, dim=0)"
      ],
      "execution_count": 17,
      "outputs": []
    },
    {
      "cell_type": "code",
      "metadata": {
        "id": "hVi8G5K8ppBx",
        "colab": {
          "base_uri": "https://localhost:8080/"
        },
        "outputId": "513b2043-5ca6-483d-de40-a482f4ad6209"
      },
      "source": [
        "# 輸出預測目標資料的預測結果\n",
        "test_features = last_hidden_states.numpy() \n",
        "y_pred = lr_clf.predict(test_features)\n",
        "y_pred"
      ],
      "execution_count": 18,
      "outputs": [
        {
          "output_type": "execute_result",
          "data": {
            "text/plain": [
              "array([1, 1, 1, ..., 1, 1, 1])"
            ]
          },
          "metadata": {
            "tags": []
          },
          "execution_count": 18
        }
      ]
    },
    {
      "cell_type": "code",
      "metadata": {
        "id": "T35XX6HGppBx"
      },
      "source": [
        "# 生成提交擋\n",
        "submission = pd.DataFrame()\n",
        "submission['id'] = df_test['id']\n",
        "submission['target'] = y_pred\n",
        "submission.to_csv('submission_Bert.csv', index=False)"
      ],
      "execution_count": 19,
      "outputs": []
    }
  ]
}