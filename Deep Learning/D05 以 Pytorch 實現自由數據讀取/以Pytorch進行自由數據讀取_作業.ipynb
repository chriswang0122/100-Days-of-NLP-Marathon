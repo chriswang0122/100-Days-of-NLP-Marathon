{
 "cells": [
  {
   "cell_type": "markdown",
   "metadata": {
    "id": "QwOUz-KrXt1m"
   },
   "source": [
    "### 作業目的: 熟練自定義collate_fn與sampler進行資料讀取\n",
    "\n",
    "本次作業主要會使用[IMDB](http://ai.stanford.edu/~amaas/data/sentiment/)資料集利用Pytorch的Dataset與DataLoader進行客製化資料讀取。<br>\n",
    "下載後的資料有分成train與test，因為這份作業目的在讀取資料，所以我們取用train部分來進行練習。\n",
    "(請同學先行至IMDB下載資料)"
   ]
  },
  {
   "cell_type": "code",
   "execution_count": 1,
   "metadata": {
    "colab": {
     "base_uri": "https://localhost:8080/"
    },
    "executionInfo": {
     "elapsed": 12836,
     "status": "ok",
     "timestamp": 1609649213562,
     "user": {
      "displayName": "王俊煒",
      "photoUrl": "",
      "userId": "10865038187423164500"
     },
     "user_tz": -480
    },
    "id": "pLtvsLZdYGuV",
    "outputId": "a1ddc587-df87-4ca4-b980-410773908662"
   },
   "outputs": [
    {
     "name": "stdout",
     "output_type": "stream",
     "text": [
      "--2021-01-03 04:46:43--  http://ai.stanford.edu/~amaas/data/sentiment/aclImdb_v1.tar.gz\n",
      "Resolving ai.stanford.edu (ai.stanford.edu)... 171.64.68.10\n",
      "Connecting to ai.stanford.edu (ai.stanford.edu)|171.64.68.10|:80... connected.\n",
      "HTTP request sent, awaiting response... 200 OK\n",
      "Length: 84125825 (80M) [application/x-gzip]\n",
      "Saving to: ‘aclImdb_v1.tar.gz’\n",
      "\n",
      "aclImdb_v1.tar.gz   100%[===================>]  80.23M  22.7MB/s    in 4.7s    \n",
      "\n",
      "2021-01-03 04:46:47 (17.1 MB/s) - ‘aclImdb_v1.tar.gz’ saved [84125825/84125825]\n",
      "\n"
     ]
    }
   ],
   "source": [
    "!wget http://ai.stanford.edu/~amaas/data/sentiment/aclImdb_v1.tar.gz\r\n",
    "!tar -zxf aclImdb_v1.tar.gz"
   ]
  },
  {
   "cell_type": "markdown",
   "metadata": {
    "id": "ZSbOhAMbXt1r"
   },
   "source": [
    "### 載入套件"
   ]
  },
  {
   "cell_type": "code",
   "execution_count": 2,
   "metadata": {
    "colab": {
     "base_uri": "https://localhost:8080/"
    },
    "executionInfo": {
     "elapsed": 18563,
     "status": "ok",
     "timestamp": 1609649219296,
     "user": {
      "displayName": "王俊煒",
      "photoUrl": "",
      "userId": "10865038187423164500"
     },
     "user_tz": -480
    },
    "id": "j580vuIEXt1s",
    "outputId": "b5cd1d25-6471-4bc2-b48b-8017b0591bfc"
   },
   "outputs": [
    {
     "name": "stdout",
     "output_type": "stream",
     "text": [
      "[nltk_data] Downloading package stopwords to /root/nltk_data...\n",
      "[nltk_data]   Unzipping corpora/stopwords.zip.\n",
      "[nltk_data] Downloading package punkt to /root/nltk_data...\n",
      "[nltk_data]   Unzipping tokenizers/punkt.zip.\n"
     ]
    }
   ],
   "source": [
    "# Import torch and other required modules\n",
    "import nltk\n",
    "nltk.download('stopwords')   # 下載stopwords\n",
    "nltk.download('punkt')   # 下載word_tokenize需要的corpus\n",
    "\n",
    "import os\n",
    "import re\n",
    "import glob\n",
    "import torch\n",
    "import numpy as np\n",
    "from nltk.corpus import stopwords\n",
    "from torch.utils.data import Dataset, DataLoader, RandomSampler\n",
    "from torch.nn.utils.rnn import pad_sequence"
   ]
  },
  {
   "cell_type": "markdown",
   "metadata": {
    "id": "nviSroJyXt1t"
   },
   "source": [
    "### 探索資料與資料前處理\n",
    "這份作業我們使用train資料中的pos與neg\n"
   ]
  },
  {
   "cell_type": "code",
   "execution_count": 3,
   "metadata": {
    "colab": {
     "base_uri": "https://localhost:8080/"
    },
    "executionInfo": {
     "elapsed": 18558,
     "status": "ok",
     "timestamp": 1609649219296,
     "user": {
      "displayName": "王俊煒",
      "photoUrl": "",
      "userId": "10865038187423164500"
     },
     "user_tz": -480
    },
    "id": "fl8RWIZVXt1t",
    "outputId": "fff5ea92-72fa-4761-e8a9-5ffd90331ce6"
   },
   "outputs": [
    {
     "name": "stdout",
     "output_type": "stream",
     "text": [
      "vocab length before removing stopwords: 89527\n",
      "vocab length after removing stopwords: 89356\n"
     ]
    }
   ],
   "source": [
    "# 讀取字典，這份字典為review內所有出現的字詞\n",
    "with open(os.path.join('aclImdb', 'imdb.vocab'), encoding='utf-8') as f:\n",
    "    vocab = [line.strip() for line in f.readlines()]\n",
    "\n",
    "# 以nltk stopwords移除贅字，過多的贅字無法提供有用的訊息，也可能影響模型的訓練\n",
    "print(f\"vocab length before removing stopwords: {len(vocab)}\")\n",
    "en_stopwords = set(stopwords.words('english'))\n",
    "vocab = [word for word in vocab if word not in en_stopwords]\n",
    "print(f\"vocab length after removing stopwords: {len(vocab)}\")\n",
    "\n",
    "# 將字典轉換成dictionary\n",
    "vocab_dic = {word: idx for idx, word in enumerate(vocab)}"
   ]
  },
  {
   "cell_type": "code",
   "execution_count": 4,
   "metadata": {
    "colab": {
     "base_uri": "https://localhost:8080/"
    },
    "executionInfo": {
     "elapsed": 18554,
     "status": "ok",
     "timestamp": 1609649219297,
     "user": {
      "displayName": "王俊煒",
      "photoUrl": "",
      "userId": "10865038187423164500"
     },
     "user_tz": -480
    },
    "id": "PpBwZnCuXt1t",
    "outputId": "18e924d5-3e9d-4720-97c9-d5b5160a1226"
   },
   "outputs": [
    {
     "name": "stdout",
     "output_type": "stream",
     "text": [
      "[('aclImdb/train/pos/6836_9.txt', 1), ('aclImdb/train/pos/10091_7.txt', 1)]\n",
      "Total reviews: 25000\n"
     ]
    }
   ],
   "source": [
    "# 將資料打包成(x, y)配對，其中x為review的檔案路徑，y為正評(1)或負評(0)\n",
    "# 這裡將x以檔案路徑代表的原因是讓同學練習不一次將資料全讀取進來，若電腦記憶體夠大(所有資料檔案沒有很大)\n",
    "# 可以將資料全一次讀取，可以減少在訓練時I/O時間，增加訓練速度\n",
    "review_pairs = []\n",
    "for folder, label in [('pos', 1), ('neg', 0)]:\n",
    "    filepaths = glob.glob(os.path.join('aclImdb', 'train', folder, '*'))\n",
    "    for filepath in filepaths:\n",
    "        review_pairs.append((filepath, label))\n",
    "\n",
    "print(review_pairs[:2])\n",
    "print(f\"Total reviews: {len(review_pairs)}\")"
   ]
  },
  {
   "cell_type": "markdown",
   "metadata": {
    "id": "aKPMszXgXt1u"
   },
   "source": [
    "### 建立Dataset, DataLoader, Sampler與Collate_fn讀取資料\n",
    "這裡我們會需要兩個helper functions，其中一個是讀取資料與清洗資料的函式(load_review)，另外一個是生成詞向量函式\n",
    "(generate_vec)，注意這裡我們用來產生詞向量的方法是單純將文字tokenize(為了使產生的文本長度不同，而不使用BoW)"
   ]
  },
  {
   "cell_type": "code",
   "execution_count": 5,
   "metadata": {
    "executionInfo": {
     "elapsed": 18550,
     "status": "ok",
     "timestamp": 1609649219297,
     "user": {
      "displayName": "王俊煒",
      "photoUrl": "",
      "userId": "10865038187423164500"
     },
     "user_tz": -480
    },
    "id": "o3t5KmLnXt1u"
   },
   "outputs": [],
   "source": [
    "def load_review(review_path):\n",
    "    with open(review_path, encoding='utf-8') as f:\n",
    "        review = f.read()\n",
    "\n",
    "    # 移除non-alphabet符號、贅字與tokenize\n",
    "    review = re.sub(r'\\W', ' ', review)\n",
    "    review = nltk.word_tokenize(review)\n",
    "    \n",
    "    return review\n",
    "\n",
    "def generate_vec(review, vocab_dic):\n",
    "    idx_vec = [vocab_dic[word] for word in review if vocab_dic.get(word)]\n",
    "\n",
    "    return idx_vec"
   ]
  },
  {
   "cell_type": "code",
   "execution_count": 6,
   "metadata": {
    "executionInfo": {
     "elapsed": 18547,
     "status": "ok",
     "timestamp": 1609649219298,
     "user": {
      "displayName": "王俊煒",
      "photoUrl": "",
      "userId": "10865038187423164500"
     },
     "user_tz": -480
    },
    "id": "BOepCqIQXt1u"
   },
   "outputs": [],
   "source": [
    "# 建立客製化dataset\n",
    "class dataset(Dataset):\n",
    "    '''custom dataset to load reviews and labels\n",
    "    Parameters\n",
    "    ----------\n",
    "    data_pairs: list\n",
    "        directory of all review-label pairs\n",
    "    vocab: list\n",
    "        list of vocabularies\n",
    "    '''\n",
    "    def __init__(self, data_dirs, vocab):\n",
    "        self.data_dirs = data_dirs\n",
    "        self.vocab = vocab\n",
    "\n",
    "    def __len__(self):\n",
    "        return len(self.data_dirs)\n",
    "\n",
    "    def __getitem__(self, idx):\n",
    "        review_path, label = self.data_dirs[idx]\n",
    "        review = load_review(review_path)\n",
    "        idx_vector = generate_vec(review, self.vocab)\n",
    "\n",
    "        return idx_vector, label\n",
    "    \n",
    "\n",
    "# 建立客製化collate_fn，將長度不一的文本pad 0變成相同長度\n",
    "def collate_fn(batch):\n",
    "    reviews, labels = zip(*batch)\n",
    "    lengths = torch.LongTensor([len(review) for review in reviews])\n",
    "    labels = torch.LongTensor(labels)\n",
    "    reviews = pad_sequence([\n",
    "        torch.LongTensor(review) for review in reviews\n",
    "    ], batch_first=True, padding_value=0)\n",
    "\n",
    "    return reviews, labels, lengths"
   ]
  },
  {
   "cell_type": "code",
   "execution_count": 7,
   "metadata": {
    "colab": {
     "base_uri": "https://localhost:8080/"
    },
    "executionInfo": {
     "elapsed": 18768,
     "status": "ok",
     "timestamp": 1609649219523,
     "user": {
      "displayName": "王俊煒",
      "photoUrl": "",
      "userId": "10865038187423164500"
     },
     "user_tz": -480
    },
    "id": "FIYeH9HUXt1u",
    "outputId": "923be1a6-eb92-41f3-c4b4-bd4cc92594f4",
    "scrolled": true
   },
   "outputs": [
    {
     "data": {
      "text/plain": [
       "(tensor([[ 112,  125,  195,  ...,    0,    0,    0],\n",
       "         [  66,    4,  238,  ...,    0,    0,    0],\n",
       "         [ 379,  802, 2643,  ...,   64,  156,  330],\n",
       "         [  66,  289,   17,  ...,    0,    0,    0]]),\n",
       " tensor([0, 1, 0, 0]),\n",
       " tensor([312,  46, 329,  97]))"
      ]
     },
     "execution_count": 7,
     "metadata": {
      "tags": []
     },
     "output_type": "execute_result"
    }
   ],
   "source": [
    "# 使用Pytorch的RandomSampler來進行indice讀取並建立dataloader\n",
    "custom_dataset = dataset(review_pairs, vocab_dic)\n",
    "custom_dataloader = DataLoader(custom_dataset, \n",
    "                               batch_size=4, \n",
    "                               sampler=RandomSampler(custom_dataset), \n",
    "                               collate_fn=collate_fn\n",
    ")\n",
    "next(iter(custom_dataloader))"
   ]
  }
 ],
 "metadata": {
  "colab": {
   "collapsed_sections": [],
   "name": "以Pytorch進行自由數據讀取_作業.ipynb",
   "provenance": [],
   "toc_visible": true
  },
  "kernelspec": {
   "display_name": "Python 3",
   "language": "python",
   "name": "python3"
  },
  "language_info": {
   "codemirror_mode": {
    "name": "ipython",
    "version": 3
   },
   "file_extension": ".py",
   "mimetype": "text/x-python",
   "name": "python",
   "nbconvert_exporter": "python",
   "pygments_lexer": "ipython3",
   "version": "3.7.8"
  }
 },
 "nbformat": 4,
 "nbformat_minor": 4
}
