{
 "cells": [
  {
   "cell_type": "markdown",
   "metadata": {
    "id": "4rDXzFyC-MQv"
   },
   "source": [
    "### **主題：啤酒評論評分預測**\n",
    "### **說明：**\n",
    "這是一份包含對不同種啤酒的評鑑資料集，最終目標是以其中的文字評論為輸入，建構 BERT 模型，評估其各項屬性(appearance, aroma, overall, palate, taste)得分。\n",
    "### **題目：**\n",
    "1. 在各項屬性中的評分別為 0, 0.5, ..., 5 的分數，請依照其分布狀況，評估應該將其分成多少群目標類別來做預測。例如: 0\\~2 分為一群、2\\~4 分為一群、...\n",
    "2. 請統計每個評論的長度為多少，並請依照其長度評估出 BERT 模型所使用的最大長度。\n",
    "##### **提示: 最大不可超過 BERT 長度限制 512**"
   ]
  },
  {
   "cell_type": "code",
   "execution_count": 1,
   "metadata": {
    "id": "4g6IyOGa-MQz"
   },
   "outputs": [],
   "source": [
    "import os\n",
    "import pandas as pd\n",
    "import seaborn as sns\n",
    "import matplotlib.pyplot as plt\n",
    "\n",
    "\n",
    "train = pd.read_json(os.path.join('data', 'train_set.json'), encoding='utf-8')\n",
    "test = pd.read_json(os.path.join('data', 'test_set.json'), encoding='utf-8')\n",
    "\n",
    "train = train.append(test).reset_index(drop=True)"
   ]
  },
  {
   "cell_type": "code",
   "execution_count": 2,
   "metadata": {
    "colab": {
     "base_uri": "https://localhost:8080/"
    },
    "id": "MzTKzrIQ_SwA",
    "outputId": "8099ac33-45b9-4fad-8766-796feec5e1b1"
   },
   "outputs": [
    {
     "data": {
      "text/plain": [
       "index                                                             6870\n",
       "beer/ABV                                                           7.5\n",
       "beer/beerId                                                      40765\n",
       "beer/brewerId                                                    16791\n",
       "beer/name                                    Otro Mundo Strong Red Ale\n",
       "beer/style                                          English Strong Ale\n",
       "review/appearance                                                  3.5\n",
       "review/aroma                                                       3.5\n",
       "review/overall                                                       3\n",
       "review/palate                                                      3.5\n",
       "review/taste                                                       3.5\n",
       "review/text          From BeerAdvocate Magazine Volume II, Issue II...\n",
       "review/timeStruct    {'min': 31, 'hour': 2, 'mday': 24, 'sec': 57, ...\n",
       "review/timeUnix                                             1259029917\n",
       "user/ageInSeconds                                                  NaN\n",
       "user/birthdayRaw                                                  None\n",
       "user/birthdayUnix                                                  NaN\n",
       "user/gender                                                       None\n",
       "user/profileName                                          BeerAdvocate\n",
       "review_appearance                                                    1\n",
       "review_aroma                                                         1\n",
       "review_overall                                                       1\n",
       "review_palate                                                        1\n",
       "review_taste                                                         1\n",
       "text_length                                                        144\n",
       "Name: 0, dtype: object"
      ]
     },
     "execution_count": 2,
     "metadata": {
      "tags": []
     },
     "output_type": "execute_result"
    }
   ],
   "source": [
    "train.iloc[0]"
   ]
  },
  {
   "cell_type": "code",
   "execution_count": 3,
   "metadata": {
    "colab": {
     "base_uri": "https://localhost:8080/",
     "height": 296
    },
    "id": "4MTuMCpS_bK_",
    "outputId": "13afde0e-11e6-4d6e-a2f6-1bfddd3ff490"
   },
   "outputs": [
    {
     "data": {
      "text/plain": [
       "Text(0.5, 0, 'appearance score')"
      ]
     },
     "execution_count": 3,
     "metadata": {
      "tags": []
     },
     "output_type": "execute_result"
    },
    {
     "data": {
      "image/png": "[encoded data removed]",
      "text/plain": [
       "<Figure size 432x288 with 1 Axes>"
      ]
     },
     "metadata": {
      "needs_background": "light",
      "tags": []
     },
     "output_type": "display_data"
    }
   ],
   "source": [
    "# appearance\r\n",
    "sns.countplot(x=train['review/appearance'])\r\n",
    "plt.xlabel('appearance score')"
   ]
  },
  {
   "cell_type": "code",
   "execution_count": 4,
   "metadata": {
    "colab": {
     "base_uri": "https://localhost:8080/",
     "height": 296
    },
    "id": "BunzK9nx_8GL",
    "outputId": "c71f5d81-e662-45cc-80d4-0e849b3ecb72"
   },
   "outputs": [
    {
     "data": {
      "text/plain": [
       "Text(0.5, 0, 'aroma score')"
      ]
     },
     "execution_count": 4,
     "metadata": {
      "tags": []
     },
     "output_type": "execute_result"
    },
    {
     "data": {
      "image/png": "[encoded data removed]",
      "text/plain": [
       "<Figure size 432x288 with 1 Axes>"
      ]
     },
     "metadata": {
      "needs_background": "light",
      "tags": []
     },
     "output_type": "display_data"
    }
   ],
   "source": [
    "# aroma\r\n",
    "sns.countplot(x=train['review/aroma'])\r\n",
    "plt.xlabel('aroma score')"
   ]
  },
  {
   "cell_type": "code",
   "execution_count": 5,
   "metadata": {
    "colab": {
     "base_uri": "https://localhost:8080/",
     "height": 296
    },
    "id": "biHi106lAHLB",
    "outputId": "ba05be88-705d-4b7d-878c-d7725fbc2bda"
   },
   "outputs": [
    {
     "data": {
      "text/plain": [
       "Text(0.5, 0, 'overall score')"
      ]
     },
     "execution_count": 5,
     "metadata": {
      "tags": []
     },
     "output_type": "execute_result"
    },
    {
     "data": {
      "image/png": "[encoded data removed]",
      "text/plain": [
       "<Figure size 432x288 with 1 Axes>"
      ]
     },
     "metadata": {
      "needs_background": "light",
      "tags": []
     },
     "output_type": "display_data"
    }
   ],
   "source": [
    "# overall\r\n",
    "sns.countplot(x=train['review/overall'])\r\n",
    "plt.xlabel('overall score')"
   ]
  },
  {
   "cell_type": "code",
   "execution_count": 6,
   "metadata": {
    "colab": {
     "base_uri": "https://localhost:8080/",
     "height": 296
    },
    "id": "cKlAmDP_ALbL",
    "outputId": "48e8b974-3d77-4516-eb76-2e07c3126679"
   },
   "outputs": [
    {
     "data": {
      "text/plain": [
       "Text(0.5, 0, 'palate score')"
      ]
     },
     "execution_count": 6,
     "metadata": {
      "tags": []
     },
     "output_type": "execute_result"
    },
    {
     "data": {
      "image/png": "[encoded data removed]",
      "text/plain": [
       "<Figure size 432x288 with 1 Axes>"
      ]
     },
     "metadata": {
      "needs_background": "light",
      "tags": []
     },
     "output_type": "display_data"
    }
   ],
   "source": [
    "# palate\r\n",
    "sns.countplot(x=train['review/palate'])\r\n",
    "plt.xlabel('palate score')"
   ]
  },
  {
   "cell_type": "code",
   "execution_count": 7,
   "metadata": {
    "colab": {
     "base_uri": "https://localhost:8080/",
     "height": 296
    },
    "id": "-sPXrPpsATq5",
    "outputId": "591f8689-6421-4469-a964-01c7ae881b43"
   },
   "outputs": [
    {
     "data": {
      "text/plain": [
       "Text(0.5, 0, 'taste score')"
      ]
     },
     "execution_count": 7,
     "metadata": {
      "tags": []
     },
     "output_type": "execute_result"
    },
    {
     "data": {
      "image/png": "[encoded data removed]",
      "text/plain": [
       "<Figure size 432x288 with 1 Axes>"
      ]
     },
     "metadata": {
      "needs_background": "light",
      "tags": []
     },
     "output_type": "display_data"
    }
   ],
   "source": [
    "# taste\r\n",
    "sns.countplot(x=train['review/taste'])\r\n",
    "plt.xlabel('taste score')"
   ]
  },
  {
   "cell_type": "markdown",
   "metadata": {
    "id": "11kUevQZAsl0"
   },
   "source": [
    "#### **#1 決定將其分成多少群目標類別來做預測**\r\n",
    "由上面的分布圖可以觀察到，各屬性大部分的評分都落在 4.0，為了讓各類別\r\n",
    "的資料數量不要相差太多，這邊將依分數 1.0\\~3.5、4.0、4.5\\~5.0 分成三個類別 1, 2, 3"
   ]
  },
  {
   "cell_type": "code",
   "execution_count": 8,
   "metadata": {
    "id": "FEzL4e0ZBvPR"
   },
   "outputs": [],
   "source": [
    "def score_to_rate(score):\r\n",
    "    if score <= 3.5:\r\n",
    "        return 1\r\n",
    "    if score == 4:\r\n",
    "        return 2\r\n",
    "    return 3\r\n",
    "\r\n",
    "for aspect in ['appearance', 'aroma', 'overall', 'palate', 'taste']:\r\n",
    "    train[f\"review_{aspect}\"] = train[f\"review/{aspect}\"].apply(score_to_rate)"
   ]
  },
  {
   "cell_type": "code",
   "execution_count": 9,
   "metadata": {
    "colab": {
     "base_uri": "https://localhost:8080/",
     "height": 296
    },
    "id": "d6QDpkp3CXSA",
    "outputId": "77e786b8-6ca5-4564-959b-bc94b50f3f49"
   },
   "outputs": [
    {
     "data": {
      "text/plain": [
       "Text(0.5, 0, 'appearance score')"
      ]
     },
     "execution_count": 9,
     "metadata": {
      "tags": []
     },
     "output_type": "execute_result"
    },
    {
     "data": {
      "image/png": "[encoded data removed]",
      "text/plain": [
       "<Figure size 432x288 with 1 Axes>"
      ]
     },
     "metadata": {
      "needs_background": "light",
      "tags": []
     },
     "output_type": "display_data"
    }
   ],
   "source": [
    "# appearance\r\n",
    "sns.countplot(x=train['review_appearance'])\r\n",
    "plt.xlabel('appearance score')"
   ]
  },
  {
   "cell_type": "code",
   "execution_count": 10,
   "metadata": {
    "colab": {
     "base_uri": "https://localhost:8080/",
     "height": 296
    },
    "id": "9UpEVOSpCbad",
    "outputId": "101b7fc6-8eb0-40ba-8f6d-27c2abbeb918"
   },
   "outputs": [
    {
     "data": {
      "text/plain": [
       "Text(0.5, 0, 'aroma score')"
      ]
     },
     "execution_count": 10,
     "metadata": {
      "tags": []
     },
     "output_type": "execute_result"
    },
    {
     "data": {
      "image/png": "[encoded data removed]",
      "text/plain": [
       "<Figure size 432x288 with 1 Axes>"
      ]
     },
     "metadata": {
      "needs_background": "light",
      "tags": []
     },
     "output_type": "display_data"
    }
   ],
   "source": [
    "# aroma\r\n",
    "sns.countplot(x=train['review_aroma'])\r\n",
    "plt.xlabel('aroma score')"
   ]
  },
  {
   "cell_type": "code",
   "execution_count": 11,
   "metadata": {
    "colab": {
     "base_uri": "https://localhost:8080/",
     "height": 300
    },
    "id": "6IRvlKWOCfEP",
    "outputId": "636f90da-2d35-47ce-90a6-6dedbfe1f690"
   },
   "outputs": [
    {
     "data": {
      "text/plain": [
       "Text(0.5, 0, 'overall score')"
      ]
     },
     "execution_count": 11,
     "metadata": {
      "tags": []
     },
     "output_type": "execute_result"
    },
    {
     "data": {
      "image/png": "[encoded data removed]",
      "text/plain": [
       "<Figure size 432x288 with 1 Axes>"
      ]
     },
     "metadata": {
      "needs_background": "light",
      "tags": []
     },
     "output_type": "display_data"
    }
   ],
   "source": [
    "# overall\r\n",
    "sns.countplot(x=train['review_overall'])\r\n",
    "plt.xlabel('overall score')"
   ]
  },
  {
   "cell_type": "code",
   "execution_count": 12,
   "metadata": {
    "colab": {
     "base_uri": "https://localhost:8080/",
     "height": 296
    },
    "id": "XyGbdN0mCg-5",
    "outputId": "78ffbdd5-690b-4b92-9e54-d3de9b00043c"
   },
   "outputs": [
    {
     "data": {
      "text/plain": [
       "Text(0.5, 0, 'palate score')"
      ]
     },
     "execution_count": 12,
     "metadata": {
      "tags": []
     },
     "output_type": "execute_result"
    },
    {
     "data": {
      "image/png": "[encoded data removed]",
      "text/plain": [
       "<Figure size 432x288 with 1 Axes>"
      ]
     },
     "metadata": {
      "needs_background": "light",
      "tags": []
     },
     "output_type": "display_data"
    }
   ],
   "source": [
    "# palate\r\n",
    "sns.countplot(x=train['review_palate'])\r\n",
    "plt.xlabel('palate score')"
   ]
  },
  {
   "cell_type": "code",
   "execution_count": 13,
   "metadata": {
    "colab": {
     "base_uri": "https://localhost:8080/",
     "height": 296
    },
    "id": "tQOTC6rDCnCE",
    "outputId": "67bc7dfc-fa4f-4e20-a587-8f0be91bba8f"
   },
   "outputs": [
    {
     "data": {
      "text/plain": [
       "Text(0.5, 0, 'taste score')"
      ]
     },
     "execution_count": 13,
     "metadata": {
      "tags": []
     },
     "output_type": "execute_result"
    },
    {
     "data": {
      "image/png": "[encoded data removed]",
      "text/plain": [
       "<Figure size 432x288 with 1 Axes>"
      ]
     },
     "metadata": {
      "needs_background": "light",
      "tags": []
     },
     "output_type": "display_data"
    }
   ],
   "source": [
    "# taste\r\n",
    "sns.countplot(x=train['review_taste'])\r\n",
    "plt.xlabel('taste score')"
   ]
  },
  {
   "cell_type": "markdown",
   "metadata": {
    "id": "SKFXwXMPEhuk"
   },
   "source": [
    "#### **#2 決定合適的BERT最大長度(max sequence length)**\r\n",
    "先看看資料集中每一筆評語的長度為多少，這邊要特別注意，BERT 在處理英文語句時是以一個單字為一個 token，而非一個字母，所以並不能純粹以len()來評估長度。<br />\r\n",
    "準確的做法應該是要以 BERT Tokenizer 來實作，然而這邊僅僅需要以空格來分割大約評估即可，與 Tokenizer 的結果並不會差太多。"
   ]
  },
  {
   "cell_type": "code",
   "execution_count": 14,
   "metadata": {
    "id": "mq_OxmxFFsQw"
   },
   "outputs": [],
   "source": [
    "def get_len(text):\r\n",
    "    return len(str(text).split(' '))\r\n",
    "\r\n",
    "train['text_length'] = train['review/text'].apply(get_len)"
   ]
  },
  {
   "cell_type": "code",
   "execution_count": 15,
   "metadata": {
    "colab": {
     "base_uri": "https://localhost:8080/"
    },
    "id": "Gd7ZmpIFFuvm",
    "outputId": "47124f40-3b36-46fa-90e9-5555c89fa026"
   },
   "outputs": [
    {
     "data": {
      "text/plain": [
       "count    50000.000000\n",
       "mean       125.502080\n",
       "std         68.986175\n",
       "min          1.000000\n",
       "50%        109.000000\n",
       "80%        167.000000\n",
       "90%        211.000000\n",
       "95%        256.000000\n",
       "max        886.000000\n",
       "Name: text_length, dtype: float64"
      ]
     },
     "execution_count": 15,
     "metadata": {
      "tags": []
     },
     "output_type": "execute_result"
    }
   ],
   "source": [
    "train['text_length'].describe([0.8, 0.9, 0.95])"
   ]
  },
  {
   "cell_type": "markdown",
   "metadata": {
    "id": "BA4Numg1GHCq"
   },
   "source": [
    "這邊發現大部分(95%)的語句都分布在 256 個自之內，因此決定將 BERT max sequence length 設定為 256 個字。"
   ]
  },
  {
   "cell_type": "code",
   "execution_count": 16,
   "metadata": {
    "id": "WJT2mhGQGHfy"
   },
   "outputs": [],
   "source": [
    "train_size = int(len(train) * 0.9)\r\n",
    "train = train.sample(frac=1).reset_index(drop=True)\r\n",
    "train_data = train.iloc[:train_size]\r\n",
    "test_data = train.iloc[train_size:].reset_index(drop=True)\r\n",
    "\r\n",
    "train_data.to_json(os.path.join('data', 'train_set.json'), orient='records')\r\n",
    "test_data.to_json(os.path.join('data', 'test_set.json'), orient='records')"
   ]
  }
 ],
 "metadata": {
  "colab": {
   "collapsed_sections": [],
   "name": "knowing_data_hw.ipynb",
   "provenance": [],
   "toc_visible": true
  },
  "kernelspec": {
   "display_name": "Python 3",
   "language": "python",
   "name": "python3"
  },
  "language_info": {
   "codemirror_mode": {
    "name": "ipython",
    "version": 3
   },
   "file_extension": ".py",
   "mimetype": "text/x-python",
   "name": "python",
   "nbconvert_exporter": "python",
   "pygments_lexer": "ipython3",
   "version": "3.7.5"
  }
 },
 "nbformat": 4,
 "nbformat_minor": 4
}
