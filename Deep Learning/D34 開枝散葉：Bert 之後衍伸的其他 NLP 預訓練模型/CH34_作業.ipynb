{
 "cells": [
  {
   "cell_type": "markdown",
   "metadata": {},
   "source": [
    "# 作業：[開放題] NLP 模型的發展極限"
   ]
  },
  {
   "cell_type": "markdown",
   "metadata": {},
   "source": [
    "- 問題：你覺得 NLP 預訓練模型還有優化的空間嗎? 為什麼?\n",
    "\n",
    "    還有很多優化的空間\n",
    "    1. 昂貴的預訓練過程(需要大量的GPU資源)\n",
    "    2. 長度限制問題(BERT最大長度512)\n",
    "    3. 模型參數太多"
   ]
  }
 ],
 "metadata": {
  "kernelspec": {
   "display_name": "Python 3",
   "language": "python",
   "name": "python3"
  },
  "language_info": {
   "codemirror_mode": {
    "name": "ipython",
    "version": 3
   },
   "file_extension": ".py",
   "mimetype": "text/x-python",
   "name": "python",
   "nbconvert_exporter": "python",
   "pygments_lexer": "ipython3",
   "version": "3.7.8"
  }
 },
 "nbformat": 4,
 "nbformat_minor": 4
}
