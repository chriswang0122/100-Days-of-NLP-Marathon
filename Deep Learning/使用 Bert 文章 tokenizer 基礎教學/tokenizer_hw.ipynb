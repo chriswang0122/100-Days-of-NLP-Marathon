{
  "nbformat": 4,
  "nbformat_minor": 0,
  "metadata": {
    "kernelspec": {
      "display_name": "Python 3",
      "language": "python",
      "name": "python3"
    },
    "language_info": {
      "codemirror_mode": {
        "name": "ipython",
        "version": 3
      },
      "file_extension": ".py",
      "mimetype": "text/x-python",
      "name": "python",
      "nbconvert_exporter": "python",
      "pygments_lexer": "ipython3",
      "version": "3.7.5"
    },
    "colab": {
      "name": "tokenizer_hw.ipynb",
      "provenance": [],
      "collapsed_sections": [],
      "toc_visible": true
    },
    "widgets": {
      "application/vnd.jupyter.widget-state+json": {
        "ad54d082c2484bbb91a136a39dcae646": {
          "model_module": "@jupyter-widgets/controls",
          "model_name": "HBoxModel",
          "state": {
            "_view_name": "HBoxView",
            "_dom_classes": [],
            "_model_name": "HBoxModel",
            "_view_module": "@jupyter-widgets/controls",
            "_model_module_version": "1.5.0",
            "_view_count": null,
            "_view_module_version": "1.5.0",
            "box_style": "",
            "layout": "IPY_MODEL_48d48748ba79494db421ea31bdc9eb2b",
            "_model_module": "@jupyter-widgets/controls",
            "children": [
              "IPY_MODEL_89a5747002654b7390509e444b539628",
              "IPY_MODEL_5598f2bb212443c69b6fbd844a2ace33"
            ]
          }
        },
        "48d48748ba79494db421ea31bdc9eb2b": {
          "model_module": "@jupyter-widgets/base",
          "model_name": "LayoutModel",
          "state": {
            "_view_name": "LayoutView",
            "grid_template_rows": null,
            "right": null,
            "justify_content": null,
            "_view_module": "@jupyter-widgets/base",
            "overflow": null,
            "_model_module_version": "1.2.0",
            "_view_count": null,
            "flex_flow": null,
            "width": null,
            "min_width": null,
            "border": null,
            "align_items": null,
            "bottom": null,
            "_model_module": "@jupyter-widgets/base",
            "top": null,
            "grid_column": null,
            "overflow_y": null,
            "overflow_x": null,
            "grid_auto_flow": null,
            "grid_area": null,
            "grid_template_columns": null,
            "flex": null,
            "_model_name": "LayoutModel",
            "justify_items": null,
            "grid_row": null,
            "max_height": null,
            "align_content": null,
            "visibility": null,
            "align_self": null,
            "height": null,
            "min_height": null,
            "padding": null,
            "grid_auto_rows": null,
            "grid_gap": null,
            "max_width": null,
            "order": null,
            "_view_module_version": "1.2.0",
            "grid_template_areas": null,
            "object_position": null,
            "object_fit": null,
            "grid_auto_columns": null,
            "margin": null,
            "display": null,
            "left": null
          }
        },
        "89a5747002654b7390509e444b539628": {
          "model_module": "@jupyter-widgets/controls",
          "model_name": "FloatProgressModel",
          "state": {
            "_view_name": "ProgressView",
            "style": "IPY_MODEL_522f0f740efd4d3a8c9da7eaf609984a",
            "_dom_classes": [],
            "description": "Downloading: 100%",
            "_model_name": "FloatProgressModel",
            "bar_style": "success",
            "max": 213450,
            "_view_module": "@jupyter-widgets/controls",
            "_model_module_version": "1.5.0",
            "value": 213450,
            "_view_count": null,
            "_view_module_version": "1.5.0",
            "orientation": "horizontal",
            "min": 0,
            "description_tooltip": null,
            "_model_module": "@jupyter-widgets/controls",
            "layout": "IPY_MODEL_7173a82957f446cf8d34909d2fcb5534"
          }
        },
        "5598f2bb212443c69b6fbd844a2ace33": {
          "model_module": "@jupyter-widgets/controls",
          "model_name": "HTMLModel",
          "state": {
            "_view_name": "HTMLView",
            "style": "IPY_MODEL_626e876160324a408f18dffd5ef29d99",
            "_dom_classes": [],
            "description": "",
            "_model_name": "HTMLModel",
            "placeholder": "​",
            "_view_module": "@jupyter-widgets/controls",
            "_model_module_version": "1.5.0",
            "value": " 213k/213k [00:00&lt;00:00, 1.99MB/s]",
            "_view_count": null,
            "_view_module_version": "1.5.0",
            "description_tooltip": null,
            "_model_module": "@jupyter-widgets/controls",
            "layout": "IPY_MODEL_20272b2b0d5c4ebbbe3a70db3f8b5333"
          }
        },
        "522f0f740efd4d3a8c9da7eaf609984a": {
          "model_module": "@jupyter-widgets/controls",
          "model_name": "ProgressStyleModel",
          "state": {
            "_view_name": "StyleView",
            "_model_name": "ProgressStyleModel",
            "description_width": "initial",
            "_view_module": "@jupyter-widgets/base",
            "_model_module_version": "1.5.0",
            "_view_count": null,
            "_view_module_version": "1.2.0",
            "bar_color": null,
            "_model_module": "@jupyter-widgets/controls"
          }
        },
        "7173a82957f446cf8d34909d2fcb5534": {
          "model_module": "@jupyter-widgets/base",
          "model_name": "LayoutModel",
          "state": {
            "_view_name": "LayoutView",
            "grid_template_rows": null,
            "right": null,
            "justify_content": null,
            "_view_module": "@jupyter-widgets/base",
            "overflow": null,
            "_model_module_version": "1.2.0",
            "_view_count": null,
            "flex_flow": null,
            "width": null,
            "min_width": null,
            "border": null,
            "align_items": null,
            "bottom": null,
            "_model_module": "@jupyter-widgets/base",
            "top": null,
            "grid_column": null,
            "overflow_y": null,
            "overflow_x": null,
            "grid_auto_flow": null,
            "grid_area": null,
            "grid_template_columns": null,
            "flex": null,
            "_model_name": "LayoutModel",
            "justify_items": null,
            "grid_row": null,
            "max_height": null,
            "align_content": null,
            "visibility": null,
            "align_self": null,
            "height": null,
            "min_height": null,
            "padding": null,
            "grid_auto_rows": null,
            "grid_gap": null,
            "max_width": null,
            "order": null,
            "_view_module_version": "1.2.0",
            "grid_template_areas": null,
            "object_position": null,
            "object_fit": null,
            "grid_auto_columns": null,
            "margin": null,
            "display": null,
            "left": null
          }
        },
        "626e876160324a408f18dffd5ef29d99": {
          "model_module": "@jupyter-widgets/controls",
          "model_name": "DescriptionStyleModel",
          "state": {
            "_view_name": "StyleView",
            "_model_name": "DescriptionStyleModel",
            "description_width": "",
            "_view_module": "@jupyter-widgets/base",
            "_model_module_version": "1.5.0",
            "_view_count": null,
            "_view_module_version": "1.2.0",
            "_model_module": "@jupyter-widgets/controls"
          }
        },
        "20272b2b0d5c4ebbbe3a70db3f8b5333": {
          "model_module": "@jupyter-widgets/base",
          "model_name": "LayoutModel",
          "state": {
            "_view_name": "LayoutView",
            "grid_template_rows": null,
            "right": null,
            "justify_content": null,
            "_view_module": "@jupyter-widgets/base",
            "overflow": null,
            "_model_module_version": "1.2.0",
            "_view_count": null,
            "flex_flow": null,
            "width": null,
            "min_width": null,
            "border": null,
            "align_items": null,
            "bottom": null,
            "_model_module": "@jupyter-widgets/base",
            "top": null,
            "grid_column": null,
            "overflow_y": null,
            "overflow_x": null,
            "grid_auto_flow": null,
            "grid_area": null,
            "grid_template_columns": null,
            "flex": null,
            "_model_name": "LayoutModel",
            "justify_items": null,
            "grid_row": null,
            "max_height": null,
            "align_content": null,
            "visibility": null,
            "align_self": null,
            "height": null,
            "min_height": null,
            "padding": null,
            "grid_auto_rows": null,
            "grid_gap": null,
            "max_width": null,
            "order": null,
            "_view_module_version": "1.2.0",
            "grid_template_areas": null,
            "object_position": null,
            "object_fit": null,
            "grid_auto_columns": null,
            "margin": null,
            "display": null,
            "left": null
          }
        }
      }
    }
  },
  "cells": [
    {
      "cell_type": "markdown",
      "metadata": {
        "id": "LTPUa_qPeXro"
      },
      "source": [
        "### **主題：啤酒評論評分預測 - 分詞器(Tokenizer)**\n",
        "### **說明：**\n",
        "繼續上次啤酒評鑑資料集的練習，還記得在上次的資料初步分析之後，對於 BERT 模型最大長度的限制是 256 嗎？<br />\n",
        "然而這還只是未使用分詞器所得到的結論，當真正使用分詞器之後，每評論句的token數可能會與先前評估有所不同，因此這次作業主要以BERT分詞器來驗證上次作業得到的結論是否需要修正。\n",
        "### **題目：**\n",
        "1. 創建英文 BERT 所使用的分詞器，提供下一題分析以及後續訓練使用\n",
        "2. 以分詞器生成每個評論語句的token，並評估上次得到的最大長度限制是否合理\n",
        "#### **提示: 不要忘記加上[SEP]與[CLS]**"
      ]
    },
    {
      "cell_type": "code",
      "metadata": {
        "id": "TUbSVCvweXrs"
      },
      "source": [
        "import os\n",
        "import pandas as pd\n",
        "from transformers import BertTokenizer"
      ],
      "execution_count": 1,
      "outputs": []
    },
    {
      "cell_type": "code",
      "metadata": {
        "id": "g8h5TgNyeXrs"
      },
      "source": [
        "TRAIN = pd.read_json(os.path.join('data', 'train_set.json'), encoding='utf-8')\n",
        "TEST = pd.read_json(os.path.join('data', 'test_set.json'), encoding='utf-8')"
      ],
      "execution_count": 2,
      "outputs": []
    },
    {
      "cell_type": "code",
      "metadata": {
        "colab": {
          "base_uri": "https://localhost:8080/",
          "height": 66,
          "referenced_widgets": [
            "ad54d082c2484bbb91a136a39dcae646",
            "48d48748ba79494db421ea31bdc9eb2b",
            "89a5747002654b7390509e444b539628",
            "5598f2bb212443c69b6fbd844a2ace33",
            "522f0f740efd4d3a8c9da7eaf609984a",
            "7173a82957f446cf8d34909d2fcb5534",
            "626e876160324a408f18dffd5ef29d99",
            "20272b2b0d5c4ebbbe3a70db3f8b5333"
          ]
        },
        "id": "wI3VbHI0eXrt",
        "outputId": "fee77ffe-aeab-41a7-8f98-3ff1e0167f39"
      },
      "source": [
        "PRE_TRAINED_MODEL_NAME = 'bert-base-cased'\r\n",
        "TOKENIZER = BertTokenizer.from_pretrained(PRE_TRAINED_MODEL_NAME)"
      ],
      "execution_count": 3,
      "outputs": [
        {
          "output_type": "display_data",
          "data": {
            "application/vnd.jupyter.widget-view+json": {
              "model_id": "ad54d082c2484bbb91a136a39dcae646",
              "version_minor": 0,
              "version_major": 2
            },
            "text/plain": [
              "HBox(children=(FloatProgress(value=0.0, description='Downloading', max=213450.0, style=ProgressStyle(descripti…"
            ]
          },
          "metadata": {
            "tags": []
          }
        },
        {
          "output_type": "stream",
          "text": [
            "\n"
          ],
          "name": "stdout"
        }
      ]
    },
    {
      "cell_type": "code",
      "metadata": {
        "colab": {
          "base_uri": "https://localhost:8080/"
        },
        "id": "cBqXgxczfkQb",
        "outputId": "3fb6b821-b67b-4762-a68a-3200cc028d8c"
      },
      "source": [
        "text = TRAIN['review/text'][0][:250]\r\n",
        "\r\n",
        "tokens = TOKENIZER.tokenize(text)\r\n",
        "token_ids = TOKENIZER.convert_tokens_to_ids(tokens)\r\n",
        "\r\n",
        "print(tokens[:50])\r\n",
        "print(token_ids[:50])"
      ],
      "execution_count": 4,
      "outputs": [
        {
          "output_type": "stream",
          "text": [
            "['Po', '##urs', 'a', 'cloud', '##ed', 'gold', 'with', 'a', 'thin', 'white', 'head', '.', 'No', '##se', 'is', 'quite', 'floral', 'with', 'a', 'larger', 'amount', 'of', 'spices', 'added', '.', 'De', '##fin', '##ite', '##ly', 'a', 's', '##pice', 'forward', 'f', '##rag', '##rance', '.', 'F', '##lav', '##or', 'has', 'an', 'odd', 'burn', 'that', 'hits', 'on', 'the', 'first', 'sip']\n",
            "[18959, 7719, 170, 7180, 1174, 2284, 1114, 170, 4240, 1653, 1246, 119, 1302, 2217, 1110, 2385, 22504, 1114, 170, 2610, 2971, 1104, 25133, 1896, 119, 3177, 16598, 3150, 1193, 170, 188, 15633, 1977, 175, 20484, 10555, 119, 143, 9516, 1766, 1144, 1126, 5849, 6790, 1115, 4919, 1113, 1103, 1148, 11456]\n"
          ],
          "name": "stdout"
        }
      ]
    },
    {
      "cell_type": "code",
      "metadata": {
        "id": "X3kt_-kBfu7R"
      },
      "source": [
        "MAX_SEQ_LEN = 512"
      ],
      "execution_count": 5,
      "outputs": []
    },
    {
      "cell_type": "code",
      "metadata": {
        "id": "wj_-TRctf1BO"
      },
      "source": [
        "def get_encoding(text, max_seq_len=MAX_SEQ_LEN):\r\n",
        "    encoding = TOKENIZER.encode_plus(\r\n",
        "        text,\r\n",
        "        max_length=max_seq_len,\r\n",
        "        truncation=True,\r\n",
        "        add_special_tokens=True,\r\n",
        "        return_token_type_ids=False,\r\n",
        "        padding=True,\r\n",
        "        return_attention_mask=True,\r\n",
        "        return_tensors='pt',\r\n",
        "    )\r\n",
        "\r\n",
        "    return [t for t in encoding['input_ids'][0] if t != 0]"
      ],
      "execution_count": 6,
      "outputs": []
    },
    {
      "cell_type": "code",
      "metadata": {
        "id": "w9s6LnlxgX--"
      },
      "source": [
        "TRAIN['token_number'] = TRAIN['review/text'].apply(str).apply(get_encoding).apply(len)"
      ],
      "execution_count": 7,
      "outputs": []
    },
    {
      "cell_type": "code",
      "metadata": {
        "colab": {
          "base_uri": "https://localhost:8080/"
        },
        "id": "KISFfpbFgil6",
        "outputId": "54f3908b-717b-4103-e7bb-efbe10cc7ac6"
      },
      "source": [
        "TRAIN['token_number'].describe([0.8, 0.9, 0.95])"
      ],
      "execution_count": 8,
      "outputs": [
        {
          "output_type": "execute_result",
          "data": {
            "text/plain": [
              "count    45000.000000\n",
              "mean       181.997133\n",
              "std         90.060288\n",
              "min          3.000000\n",
              "50%        160.000000\n",
              "80%        242.000000\n",
              "90%        302.000000\n",
              "95%        364.000000\n",
              "max        512.000000\n",
              "Name: token_number, dtype: float64"
            ]
          },
          "metadata": {
            "tags": []
          },
          "execution_count": 8
        }
      ]
    },
    {
      "cell_type": "markdown",
      "metadata": {
        "id": "C1CvNYdihBU4"
      },
      "source": [
        "### 結論\r\n",
        "Tokenize 後可以發現語句的 Token 數超出先前使用空白分割的 256 (因為 BERT 使用 word piece)"
      ]
    }
  ]
}