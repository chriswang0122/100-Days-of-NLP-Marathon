{
 "cells": [
  {
   "cell_type": "markdown",
   "metadata": {
    "id": "L1GbY0omqE8c"
   },
   "source": [
    "# 專題（二）：建置 Bert 新聞觀點分類器之資料集\n",
    "\n",
    "## 專案目標\n",
    "- 目標：請試著建置 BertForSequenceClassification 看得懂的兩個句子分類問題的資料集  NewsPairDataset\n",
    "- 資料集 in archive.zip：\n",
    "    - 包含：train.csv、test.csv、solution.csv\n",
    "    - 資料來源：https://www.kaggle.com/wsdmcup/wsdm-fake-news-classification\n",
    "    - 資料中包含兩個新聞標題 title1_zh 和 title2_zh，並且給予這兩篇新聞的相關性，分別可能是：agreed, unrelated, disagreed\n",
    "\n",
    "## 實作提示\n",
    "- STEP1：解壓縮 archive.zip，並且讀取 train.csv 和 test.csv 檔案\n",
    "- STEP2：繼承 torch.utils.data.Dataset 並實作 NewsPairDataset，其中需要用到 bert tokenizer(請參考官方對 BertForSequenceClassification 的說明)，特別注意兩個句子間必須要有分隔符號 SEP\n",
    "- STEP3：因為每一個從 NewsPairDataset 來的樣本長度都不一樣，所以需要實作 collate_fn，來zero padding 到同一序列長度\n",
    "- STEP4：使用 torch.utils.data.DataLoader 來創造 train_loader 和 valid_loader\n",
    "\n",
    "## 重要知識點：專題結束後可以學會\n",
    "- 如何讀取並處理 NLP 資料，產生可以適用 BertForSequenceClassification 兩個句子分類問題的資料集\n",
    "- 了解 BERT 的 2-Sequence Classification 任務如何進行"
   ]
  },
  {
   "cell_type": "code",
   "execution_count": 1,
   "metadata": {
    "colab": {
     "base_uri": "https://localhost:8080/"
    },
    "id": "Q3YY65ATT66m",
    "outputId": "e0f535e9-b22c-4de6-a9ba-3caf87a68136"
   },
   "outputs": [
    {
     "name": "stdout",
     "output_type": "stream",
     "text": [
      "Archive:  archive.zip\n",
      "  inflating: solution.csv            \n",
      "  inflating: test.csv                \n",
      "  inflating: train.csv               \n"
     ]
    }
   ],
   "source": [
    "# from: https://www.kaggle.com/wsdmcup/wsdm-fake-news-classification\n",
    "!unzip archive.zip"
   ]
  },
  {
   "cell_type": "code",
   "execution_count": 2,
   "metadata": {
    "id": "WKW9s5YtMvop"
   },
   "outputs": [],
   "source": [
    "import pandas as pd\n",
    "\n",
    "import torch\n",
    "from torch.utils.data import Dataset, DataLoader, random_split\n",
    "from torch.nn.utils.rnn import pad_sequence\n",
    "from transformers import BertTokenizer"
   ]
  },
  {
   "cell_type": "code",
   "execution_count": 3,
   "metadata": {
    "id": "i8OlmfVQM7UW"
   },
   "outputs": [],
   "source": [
    "df_train = pd.read_csv('train.csv')\n",
    "df_test = pd.read_csv('test.csv')"
   ]
  },
  {
   "cell_type": "code",
   "execution_count": 4,
   "metadata": {
    "id": "nA7JG6AjVfy9"
   },
   "outputs": [],
   "source": [
    "df_train = df_train[['title1_zh', 'title2_zh', 'label']].dropna(axis=0).reset_index(drop=True)\n",
    "df_test = df_test[['id', 'title1_zh', 'title2_zh']].dropna(axis=0).reset_index(drop=True)"
   ]
  },
  {
   "cell_type": "code",
   "execution_count": 5,
   "metadata": {
    "id": "QM8vITkwNMJP"
   },
   "outputs": [],
   "source": [
    "ALL_LABELS = ['agreed', 'unrelated', 'disagreed']"
   ]
  },
  {
   "cell_type": "code",
   "execution_count": 6,
   "metadata": {
    "id": "ACnCRl2xNV3r"
   },
   "outputs": [],
   "source": [
    "MODEL_NAME = 'bert-base-chinese'"
   ]
  },
  {
   "cell_type": "code",
   "execution_count": 7,
   "metadata": {
    "id": "rK1yhgITcL3Q"
   },
   "outputs": [],
   "source": [
    "# 建置數據集\n",
    "class NewsPairDataset(Dataset):\n",
    "    def __init__(self, tokenizer, df, max_len=512):\n",
    "        self.tokenizer = tokenizer\n",
    "        self.df = df\n",
    "        self.max_len = max_len\n",
    "\n",
    "    def __getitem__(self, idx):\n",
    "        text1 = self.df.loc[idx, 'title1_zh']\n",
    "        text2 = self.df.loc[idx, 'title2_zh']\n",
    "        label = self.df.loc[idx, 'label'] if 'label' in self.df.columns else None\n",
    "\n",
    "        text1_tokens = self.tokenizer.tokenize(text1)\n",
    "        text2_tokens = self.tokenizer.tokenize(text2)\n",
    "        len_all_tokens = len(text1_tokens) + len(text2_tokens) + 2\n",
    "        if len_all_tokens > self.max_len:\n",
    "            limit_num = (self.max_len - 2) // 2\n",
    "            text1_tokens = text1_tokens[:limit_num]\n",
    "            text2_tokens = text2_tokens[:limit_num]\n",
    "\n",
    "        input = {}\n",
    "        word_pieces = ['[CLS]'] + text1_tokens + ['[SEP]'] + text2_tokens\n",
    "        input['input_ids'] = torch.LongTensor(self.tokenizer.convert_tokens_to_ids(word_pieces))\n",
    "        pos_sep = word_pieces.index('[SEP]')\n",
    "        input['token_type_ids'] = torch.LongTensor(\n",
    "            [0] * (pos_sep + 1) + [1] * (len(word_pieces) - pos_sep - 1)\n",
    "        )\n",
    "        input['attention_mask'] = torch.LongTensor([1] * len(word_pieces))\n",
    "\n",
    "        if label:\n",
    "            label = torch.tensor(ALL_LABELS.index(label))\n",
    "\n",
    "        return input, label\n",
    "\n",
    "    def __len__(self):\n",
    "        return len(self.df)"
   ]
  },
  {
   "cell_type": "code",
   "execution_count": 8,
   "metadata": {
    "id": "15RAchEHePhD"
   },
   "outputs": [],
   "source": [
    "def create_mini_batch(samples):\r\n",
    "    input_ids = []\r\n",
    "    token_type_ids = []\r\n",
    "    attention_mask = []\r\n",
    "    labels = []\r\n",
    "    for s in samples:\r\n",
    "        input_ids.append(s[0]['input_ids'].squeeze(0))\r\n",
    "        token_type_ids.append(s[0]['token_type_ids'].squeeze(0))\r\n",
    "        attention_mask.append(s[0]['attention_mask'].squeeze(0))\r\n",
    "        if s[1]:\r\n",
    "            labels.append(s[1])\r\n",
    "\r\n",
    "    # zero pad 到同一序列長度\r\n",
    "    input_ids = pad_sequence(input_ids, batch_first=True, padding_value=0)\r\n",
    "    token_type_ids = pad_sequence(token_type_ids, batch_first=True, padding_value=0)\r\n",
    "    attention_mask = pad_sequence(attention_mask, batch_first=True, padding_value=0)\r\n",
    " \r\n",
    "    if labels:\r\n",
    "        labels = torch.stack(labels)\r\n",
    "        return input_ids, token_type_ids, attention_mask, labels\r\n",
    "    else:\r\n",
    "        return input_ids, token_type_ids, attention_mask"
   ]
  },
  {
   "cell_type": "code",
   "execution_count": 9,
   "metadata": {
    "colab": {
     "base_uri": "https://localhost:8080/",
     "height": 66,
     "referenced_widgets": [
      "55aedc793c85400b86d406322305b819",
      "91df3f5528c640f78294fb0f513aff5e",
      "a22b05e1f0f1416499a6899ac10aef8a",
      "4c1b4a627c4744ec8696778bbc820383",
      "e250aa90ca174d70846906febd94b5f7",
      "7c66d6d518204143bf3618e7b56685c2",
      "fedf6695ba0a4cb695033184fe3e7d8d",
      "790f3b8c48d4483dad92106aa8a57489"
     ]
    },
    "id": "4cmG8VcfeiNN",
    "outputId": "109798ce-3e07-481c-b79b-b42f4c8800ab"
   },
   "outputs": [
    {
     "data": {
      "application/vnd.jupyter.widget-view+json": {
       "model_id": "55aedc793c85400b86d406322305b819",
       "version_major": 2,
       "version_minor": 0
      },
      "text/plain": [
       "HBox(children=(FloatProgress(value=0.0, description='Downloading', max=109540.0, style=ProgressStyle(descripti…"
      ]
     },
     "metadata": {
      "tags": []
     },
     "output_type": "display_data"
    },
    {
     "name": "stdout",
     "output_type": "stream",
     "text": [
      "\n"
     ]
    }
   ],
   "source": [
    "train_batch_size = 32\n",
    "eval_batch_size = 512\n",
    "\n",
    "tokenizer = BertTokenizer.from_pretrained(MODEL_NAME)\n",
    "\n",
    "dataset = NewsPairDataset(tokenizer, df_train)\n",
    "\n",
    "train_size = int(0.8 * len(dataset))\n",
    "valid_size = len(dataset) - train_size\n",
    "train_dataset, valid_dataset = random_split(dataset, [train_size, valid_size])\n",
    "\n",
    "train_loader = DataLoader(\n",
    "    dataset=train_dataset,\n",
    "    batch_size=train_batch_size,\n",
    "    collate_fn=create_mini_batch,\n",
    "    shuffle=True\n",
    ")\n",
    "valid_loader = DataLoader(\n",
    "    dataset=valid_dataset,\n",
    "    batch_size=eval_batch_size,\n",
    "    collate_fn=create_mini_batch\n",
    ")"
   ]
  }
 ],
 "metadata": {
  "accelerator": "GPU",
  "colab": {
   "collapsed_sections": [],
   "name": "bert_news_agreement_1_hw.ipynb",
   "provenance": [],
   "toc_visible": true
  },
  "kernelspec": {
   "display_name": "Python 3",
   "language": "python",
   "name": "python3"
  },
  "language_info": {
   "codemirror_mode": {
    "name": "ipython",
    "version": 3
   },
   "file_extension": ".py",
   "mimetype": "text/x-python",
   "name": "python",
   "nbconvert_exporter": "python",
   "pygments_lexer": "ipython3",
   "version": "3.7.8"
  },
  "widgets": {
   "application/vnd.jupyter.widget-state+json": {
    "4c1b4a627c4744ec8696778bbc820383": {
     "model_module": "@jupyter-widgets/controls",
     "model_name": "HTMLModel",
     "state": {
      "_dom_classes": [],
      "_model_module": "@jupyter-widgets/controls",
      "_model_module_version": "1.5.0",
      "_model_name": "HTMLModel",
      "_view_count": null,
      "_view_module": "@jupyter-widgets/controls",
      "_view_module_version": "1.5.0",
      "_view_name": "HTMLView",
      "description": "",
      "description_tooltip": null,
      "layout": "IPY_MODEL_790f3b8c48d4483dad92106aa8a57489",
      "placeholder": "​",
      "style": "IPY_MODEL_fedf6695ba0a4cb695033184fe3e7d8d",
      "value": " 110k/110k [00:00&lt;00:00, 528kB/s]"
     }
    },
    "55aedc793c85400b86d406322305b819": {
     "model_module": "@jupyter-widgets/controls",
     "model_name": "HBoxModel",
     "state": {
      "_dom_classes": [],
      "_model_module": "@jupyter-widgets/controls",
      "_model_module_version": "1.5.0",
      "_model_name": "HBoxModel",
      "_view_count": null,
      "_view_module": "@jupyter-widgets/controls",
      "_view_module_version": "1.5.0",
      "_view_name": "HBoxView",
      "box_style": "",
      "children": [
       "IPY_MODEL_a22b05e1f0f1416499a6899ac10aef8a",
       "IPY_MODEL_4c1b4a627c4744ec8696778bbc820383"
      ],
      "layout": "IPY_MODEL_91df3f5528c640f78294fb0f513aff5e"
     }
    },
    "790f3b8c48d4483dad92106aa8a57489": {
     "model_module": "@jupyter-widgets/base",
     "model_name": "LayoutModel",
     "state": {
      "_model_module": "@jupyter-widgets/base",
      "_model_module_version": "1.2.0",
      "_model_name": "LayoutModel",
      "_view_count": null,
      "_view_module": "@jupyter-widgets/base",
      "_view_module_version": "1.2.0",
      "_view_name": "LayoutView",
      "align_content": null,
      "align_items": null,
      "align_self": null,
      "border": null,
      "bottom": null,
      "display": null,
      "flex": null,
      "flex_flow": null,
      "grid_area": null,
      "grid_auto_columns": null,
      "grid_auto_flow": null,
      "grid_auto_rows": null,
      "grid_column": null,
      "grid_gap": null,
      "grid_row": null,
      "grid_template_areas": null,
      "grid_template_columns": null,
      "grid_template_rows": null,
      "height": null,
      "justify_content": null,
      "justify_items": null,
      "left": null,
      "margin": null,
      "max_height": null,
      "max_width": null,
      "min_height": null,
      "min_width": null,
      "object_fit": null,
      "object_position": null,
      "order": null,
      "overflow": null,
      "overflow_x": null,
      "overflow_y": null,
      "padding": null,
      "right": null,
      "top": null,
      "visibility": null,
      "width": null
     }
    },
    "7c66d6d518204143bf3618e7b56685c2": {
     "model_module": "@jupyter-widgets/base",
     "model_name": "LayoutModel",
     "state": {
      "_model_module": "@jupyter-widgets/base",
      "_model_module_version": "1.2.0",
      "_model_name": "LayoutModel",
      "_view_count": null,
      "_view_module": "@jupyter-widgets/base",
      "_view_module_version": "1.2.0",
      "_view_name": "LayoutView",
      "align_content": null,
      "align_items": null,
      "align_self": null,
      "border": null,
      "bottom": null,
      "display": null,
      "flex": null,
      "flex_flow": null,
      "grid_area": null,
      "grid_auto_columns": null,
      "grid_auto_flow": null,
      "grid_auto_rows": null,
      "grid_column": null,
      "grid_gap": null,
      "grid_row": null,
      "grid_template_areas": null,
      "grid_template_columns": null,
      "grid_template_rows": null,
      "height": null,
      "justify_content": null,
      "justify_items": null,
      "left": null,
      "margin": null,
      "max_height": null,
      "max_width": null,
      "min_height": null,
      "min_width": null,
      "object_fit": null,
      "object_position": null,
      "order": null,
      "overflow": null,
      "overflow_x": null,
      "overflow_y": null,
      "padding": null,
      "right": null,
      "top": null,
      "visibility": null,
      "width": null
     }
    },
    "91df3f5528c640f78294fb0f513aff5e": {
     "model_module": "@jupyter-widgets/base",
     "model_name": "LayoutModel",
     "state": {
      "_model_module": "@jupyter-widgets/base",
      "_model_module_version": "1.2.0",
      "_model_name": "LayoutModel",
      "_view_count": null,
      "_view_module": "@jupyter-widgets/base",
      "_view_module_version": "1.2.0",
      "_view_name": "LayoutView",
      "align_content": null,
      "align_items": null,
      "align_self": null,
      "border": null,
      "bottom": null,
      "display": null,
      "flex": null,
      "flex_flow": null,
      "grid_area": null,
      "grid_auto_columns": null,
      "grid_auto_flow": null,
      "grid_auto_rows": null,
      "grid_column": null,
      "grid_gap": null,
      "grid_row": null,
      "grid_template_areas": null,
      "grid_template_columns": null,
      "grid_template_rows": null,
      "height": null,
      "justify_content": null,
      "justify_items": null,
      "left": null,
      "margin": null,
      "max_height": null,
      "max_width": null,
      "min_height": null,
      "min_width": null,
      "object_fit": null,
      "object_position": null,
      "order": null,
      "overflow": null,
      "overflow_x": null,
      "overflow_y": null,
      "padding": null,
      "right": null,
      "top": null,
      "visibility": null,
      "width": null
     }
    },
    "a22b05e1f0f1416499a6899ac10aef8a": {
     "model_module": "@jupyter-widgets/controls",
     "model_name": "FloatProgressModel",
     "state": {
      "_dom_classes": [],
      "_model_module": "@jupyter-widgets/controls",
      "_model_module_version": "1.5.0",
      "_model_name": "FloatProgressModel",
      "_view_count": null,
      "_view_module": "@jupyter-widgets/controls",
      "_view_module_version": "1.5.0",
      "_view_name": "ProgressView",
      "bar_style": "success",
      "description": "Downloading: 100%",
      "description_tooltip": null,
      "layout": "IPY_MODEL_7c66d6d518204143bf3618e7b56685c2",
      "max": 109540,
      "min": 0,
      "orientation": "horizontal",
      "style": "IPY_MODEL_e250aa90ca174d70846906febd94b5f7",
      "value": 109540
     }
    },
    "e250aa90ca174d70846906febd94b5f7": {
     "model_module": "@jupyter-widgets/controls",
     "model_name": "ProgressStyleModel",
     "state": {
      "_model_module": "@jupyter-widgets/controls",
      "_model_module_version": "1.5.0",
      "_model_name": "ProgressStyleModel",
      "_view_count": null,
      "_view_module": "@jupyter-widgets/base",
      "_view_module_version": "1.2.0",
      "_view_name": "StyleView",
      "bar_color": null,
      "description_width": "initial"
     }
    },
    "fedf6695ba0a4cb695033184fe3e7d8d": {
     "model_module": "@jupyter-widgets/controls",
     "model_name": "DescriptionStyleModel",
     "state": {
      "_model_module": "@jupyter-widgets/controls",
      "_model_module_version": "1.5.0",
      "_model_name": "DescriptionStyleModel",
      "_view_count": null,
      "_view_module": "@jupyter-widgets/base",
      "_view_module_version": "1.2.0",
      "_view_name": "StyleView",
      "description_width": ""
     }
    }
   }
  }
 },
 "nbformat": 4,
 "nbformat_minor": 4
}
