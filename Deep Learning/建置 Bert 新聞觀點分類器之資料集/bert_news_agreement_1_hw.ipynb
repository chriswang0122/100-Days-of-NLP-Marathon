{
  "nbformat": 4,
  "nbformat_minor": 0,
  "metadata": {
    "colab": {
      "name": "bert_news_agreement_1_hw.ipynb",
      "provenance": [],
      "collapsed_sections": [],
      "toc_visible": true
    },
    "kernelspec": {
      "name": "python3",
      "display_name": "Python 3"
    },
    "accelerator": "GPU",
    "widgets": {
      "application/vnd.jupyter.widget-state+json": {
        "55aedc793c85400b86d406322305b819": {
          "model_module": "@jupyter-widgets/controls",
          "model_name": "HBoxModel",
          "state": {
            "_view_name": "HBoxView",
            "_dom_classes": [],
            "_model_name": "HBoxModel",
            "_view_module": "@jupyter-widgets/controls",
            "_model_module_version": "1.5.0",
            "_view_count": null,
            "_view_module_version": "1.5.0",
            "box_style": "",
            "layout": "IPY_MODEL_91df3f5528c640f78294fb0f513aff5e",
            "_model_module": "@jupyter-widgets/controls",
            "children": [
              "IPY_MODEL_a22b05e1f0f1416499a6899ac10aef8a",
              "IPY_MODEL_4c1b4a627c4744ec8696778bbc820383"
            ]
          }
        },
        "91df3f5528c640f78294fb0f513aff5e": {
          "model_module": "@jupyter-widgets/base",
          "model_name": "LayoutModel",
          "state": {
            "_view_name": "LayoutView",
            "grid_template_rows": null,
            "right": null,
            "justify_content": null,
            "_view_module": "@jupyter-widgets/base",
            "overflow": null,
            "_model_module_version": "1.2.0",
            "_view_count": null,
            "flex_flow": null,
            "width": null,
            "min_width": null,
            "border": null,
            "align_items": null,
            "bottom": null,
            "_model_module": "@jupyter-widgets/base",
            "top": null,
            "grid_column": null,
            "overflow_y": null,
            "overflow_x": null,
            "grid_auto_flow": null,
            "grid_area": null,
            "grid_template_columns": null,
            "flex": null,
            "_model_name": "LayoutModel",
            "justify_items": null,
            "grid_row": null,
            "max_height": null,
            "align_content": null,
            "visibility": null,
            "align_self": null,
            "height": null,
            "min_height": null,
            "padding": null,
            "grid_auto_rows": null,
            "grid_gap": null,
            "max_width": null,
            "order": null,
            "_view_module_version": "1.2.0",
            "grid_template_areas": null,
            "object_position": null,
            "object_fit": null,
            "grid_auto_columns": null,
            "margin": null,
            "display": null,
            "left": null
          }
        },
        "a22b05e1f0f1416499a6899ac10aef8a": {
          "model_module": "@jupyter-widgets/controls",
          "model_name": "FloatProgressModel",
          "state": {
            "_view_name": "ProgressView",
            "style": "IPY_MODEL_e250aa90ca174d70846906febd94b5f7",
            "_dom_classes": [],
            "description": "Downloading: 100%",
            "_model_name": "FloatProgressModel",
            "bar_style": "success",
            "max": 109540,
            "_view_module": "@jupyter-widgets/controls",
            "_model_module_version": "1.5.0",
            "value": 109540,
            "_view_count": null,
            "_view_module_version": "1.5.0",
            "orientation": "horizontal",
            "min": 0,
            "description_tooltip": null,
            "_model_module": "@jupyter-widgets/controls",
            "layout": "IPY_MODEL_7c66d6d518204143bf3618e7b56685c2"
          }
        },
        "4c1b4a627c4744ec8696778bbc820383": {
          "model_module": "@jupyter-widgets/controls",
          "model_name": "HTMLModel",
          "state": {
            "_view_name": "HTMLView",
            "style": "IPY_MODEL_fedf6695ba0a4cb695033184fe3e7d8d",
            "_dom_classes": [],
            "description": "",
            "_model_name": "HTMLModel",
            "placeholder": "​",
            "_view_module": "@jupyter-widgets/controls",
            "_model_module_version": "1.5.0",
            "value": " 110k/110k [00:00&lt;00:00, 528kB/s]",
            "_view_count": null,
            "_view_module_version": "1.5.0",
            "description_tooltip": null,
            "_model_module": "@jupyter-widgets/controls",
            "layout": "IPY_MODEL_790f3b8c48d4483dad92106aa8a57489"
          }
        },
        "e250aa90ca174d70846906febd94b5f7": {
          "model_module": "@jupyter-widgets/controls",
          "model_name": "ProgressStyleModel",
          "state": {
            "_view_name": "StyleView",
            "_model_name": "ProgressStyleModel",
            "description_width": "initial",
            "_view_module": "@jupyter-widgets/base",
            "_model_module_version": "1.5.0",
            "_view_count": null,
            "_view_module_version": "1.2.0",
            "bar_color": null,
            "_model_module": "@jupyter-widgets/controls"
          }
        },
        "7c66d6d518204143bf3618e7b56685c2": {
          "model_module": "@jupyter-widgets/base",
          "model_name": "LayoutModel",
          "state": {
            "_view_name": "LayoutView",
            "grid_template_rows": null,
            "right": null,
            "justify_content": null,
            "_view_module": "@jupyter-widgets/base",
            "overflow": null,
            "_model_module_version": "1.2.0",
            "_view_count": null,
            "flex_flow": null,
            "width": null,
            "min_width": null,
            "border": null,
            "align_items": null,
            "bottom": null,
            "_model_module": "@jupyter-widgets/base",
            "top": null,
            "grid_column": null,
            "overflow_y": null,
            "overflow_x": null,
            "grid_auto_flow": null,
            "grid_area": null,
            "grid_template_columns": null,
            "flex": null,
            "_model_name": "LayoutModel",
            "justify_items": null,
            "grid_row": null,
            "max_height": null,
            "align_content": null,
            "visibility": null,
            "align_self": null,
            "height": null,
            "min_height": null,
            "padding": null,
            "grid_auto_rows": null,
            "grid_gap": null,
            "max_width": null,
            "order": null,
            "_view_module_version": "1.2.0",
            "grid_template_areas": null,
            "object_position": null,
            "object_fit": null,
            "grid_auto_columns": null,
            "margin": null,
            "display": null,
            "left": null
          }
        },
        "fedf6695ba0a4cb695033184fe3e7d8d": {
          "model_module": "@jupyter-widgets/controls",
          "model_name": "DescriptionStyleModel",
          "state": {
            "_view_name": "StyleView",
            "_model_name": "DescriptionStyleModel",
            "description_width": "",
            "_view_module": "@jupyter-widgets/base",
            "_model_module_version": "1.5.0",
            "_view_count": null,
            "_view_module_version": "1.2.0",
            "_model_module": "@jupyter-widgets/controls"
          }
        },
        "790f3b8c48d4483dad92106aa8a57489": {
          "model_module": "@jupyter-widgets/base",
          "model_name": "LayoutModel",
          "state": {
            "_view_name": "LayoutView",
            "grid_template_rows": null,
            "right": null,
            "justify_content": null,
            "_view_module": "@jupyter-widgets/base",
            "overflow": null,
            "_model_module_version": "1.2.0",
            "_view_count": null,
            "flex_flow": null,
            "width": null,
            "min_width": null,
            "border": null,
            "align_items": null,
            "bottom": null,
            "_model_module": "@jupyter-widgets/base",
            "top": null,
            "grid_column": null,
            "overflow_y": null,
            "overflow_x": null,
            "grid_auto_flow": null,
            "grid_area": null,
            "grid_template_columns": null,
            "flex": null,
            "_model_name": "LayoutModel",
            "justify_items": null,
            "grid_row": null,
            "max_height": null,
            "align_content": null,
            "visibility": null,
            "align_self": null,
            "height": null,
            "min_height": null,
            "padding": null,
            "grid_auto_rows": null,
            "grid_gap": null,
            "max_width": null,
            "order": null,
            "_view_module_version": "1.2.0",
            "grid_template_areas": null,
            "object_position": null,
            "object_fit": null,
            "grid_auto_columns": null,
            "margin": null,
            "display": null,
            "left": null
          }
        }
      }
    }
  },
  "cells": [
    {
      "cell_type": "markdown",
      "metadata": {
        "id": "L1GbY0omqE8c"
      },
      "source": [
        "# 專題（二）：建置 Bert 新聞觀點分類器之資料集\n",
        "\n",
        "## 專案目標\n",
        "- 目標：請試著建置 BertForSequenceClassification 看得懂的兩個句子分類問題的資料集  NewsPairDataset\n",
        "- 資料集 in archive.zip：\n",
        "    - 包含：train.csv、test.csv、solution.csv\n",
        "    - 資料來源：https://www.kaggle.com/wsdmcup/wsdm-fake-news-classification\n",
        "    - 資料中包含兩個新聞標題 title1_zh 和 title2_zh，並且給予這兩篇新聞的相關性，分別可能是：agreed, unrelated, disagreed\n",
        "\n",
        "## 實作提示\n",
        "- STEP1：解壓縮 archive.zip，並且讀取 train.csv 和 test.csv 檔案\n",
        "- STEP2：繼承 torch.utils.data.Dataset 並實作 NewsPairDataset，其中需要用到 bert tokenizer(請參考官方對 BertForSequenceClassification 的說明)，特別注意兩個句子間必須要有分隔符號 SEP\n",
        "- STEP3：因為每一個從 NewsPairDataset 來的樣本長度都不一樣，所以需要實作 collate_fn，來zero padding 到同一序列長度\n",
        "- STEP4：使用 torch.utils.data.DataLoader 來創造 train_loader 和 valid_loader\n",
        "\n",
        "## 重要知識點：專題結束你可以學會\n",
        "- 如何讀取並處理 NLP 資料，產生可以適用 BertForSequenceClassification 兩個句子分類問題的資料集\n",
        "- 了解 BERT 的 2-Sequence Classification 任務如何進行"
      ]
    },
    {
      "cell_type": "code",
      "metadata": {
        "id": "Q3YY65ATT66m",
        "colab": {
          "base_uri": "https://localhost:8080/"
        },
        "outputId": "e0f535e9-b22c-4de6-a9ba-3caf87a68136"
      },
      "source": [
        "# from: https://www.kaggle.com/wsdmcup/wsdm-fake-news-classification\n",
        "!unzip archive.zip"
      ],
      "execution_count": 1,
      "outputs": [
        {
          "output_type": "stream",
          "text": [
            "Archive:  archive.zip\n",
            "  inflating: solution.csv            \n",
            "  inflating: test.csv                \n",
            "  inflating: train.csv               \n"
          ],
          "name": "stdout"
        }
      ]
    },
    {
      "cell_type": "code",
      "metadata": {
        "id": "WKW9s5YtMvop"
      },
      "source": [
        "import pandas as pd\n",
        "\n",
        "import torch\n",
        "from torch.utils.data import Dataset, DataLoader, random_split\n",
        "from torch.nn.utils.rnn import pad_sequence\n",
        "from transformers import BertTokenizer"
      ],
      "execution_count": 2,
      "outputs": []
    },
    {
      "cell_type": "code",
      "metadata": {
        "id": "i8OlmfVQM7UW"
      },
      "source": [
        "df_train = pd.read_csv('train.csv')\n",
        "df_test = pd.read_csv('test.csv')"
      ],
      "execution_count": 3,
      "outputs": []
    },
    {
      "cell_type": "code",
      "metadata": {
        "id": "nA7JG6AjVfy9"
      },
      "source": [
        "df_train = df_train[['title1_zh', 'title2_zh', 'label']].dropna(axis=0).reset_index(drop=True)\n",
        "df_test = df_test[['id', 'title1_zh', 'title2_zh']].dropna(axis=0).reset_index(drop=True)"
      ],
      "execution_count": 4,
      "outputs": []
    },
    {
      "cell_type": "code",
      "metadata": {
        "id": "QM8vITkwNMJP"
      },
      "source": [
        "ALL_LABELS = ['agreed', 'unrelated', 'disagreed']"
      ],
      "execution_count": 5,
      "outputs": []
    },
    {
      "cell_type": "code",
      "metadata": {
        "id": "ACnCRl2xNV3r"
      },
      "source": [
        "MODEL_NAME = 'bert-base-chinese'"
      ],
      "execution_count": 6,
      "outputs": []
    },
    {
      "cell_type": "code",
      "metadata": {
        "id": "rK1yhgITcL3Q"
      },
      "source": [
        "# 建置數據集\n",
        "class NewsPairDataset(Dataset):\n",
        "    def __init__(self, tokenizer, df, max_len=512):\n",
        "        self.tokenizer = tokenizer\n",
        "        self.df = df\n",
        "        self.max_len = max_len\n",
        "\n",
        "    def __getitem__(self, idx):\n",
        "        text1 = self.df.loc[idx, 'title1_zh']\n",
        "        text2 = self.df.loc[idx, 'title2_zh']\n",
        "        label = self.df.loc[idx, 'label'] if 'label' in self.df.columns else None\n",
        "\n",
        "        text1_tokens = self.tokenizer.tokenize(text1)\n",
        "        text2_tokens = self.tokenizer.tokenize(text2)\n",
        "        len_all_tokens = len(text1_tokens) + len(text2_tokens) + 2\n",
        "        if len_all_tokens > self.max_len:\n",
        "            limit_num = (self.max_len - 2) // 2\n",
        "            text1_tokens = text1_tokens[:limit_num]\n",
        "            text2_tokens = text2_tokens[:limit_num]\n",
        "\n",
        "        input = {}\n",
        "        word_pieces = ['[CLS]'] + text1_tokens + ['[SEP]'] + text2_tokens\n",
        "        input['input_ids'] = torch.LongTensor(self.tokenizer.convert_tokens_to_ids(word_pieces))\n",
        "        pos_sep = word_pieces.index('[SEP]')\n",
        "        input['token_type_ids'] = torch.LongTensor(\n",
        "            [0] * (pos_sep + 1) + [1] * (len(word_pieces) - pos_sep - 1)\n",
        "        )\n",
        "        input['attention_mask'] = torch.LongTensor([1] * len(word_pieces))\n",
        "\n",
        "        if label:\n",
        "            label = torch.tensor(ALL_LABELS.index(label))\n",
        "\n",
        "        return input, label\n",
        "\n",
        "    def __len__(self):\n",
        "        return len(self.df)"
      ],
      "execution_count": 7,
      "outputs": []
    },
    {
      "cell_type": "code",
      "metadata": {
        "id": "15RAchEHePhD"
      },
      "source": [
        "def create_mini_batch(samples):\r\n",
        "    input_ids = []\r\n",
        "    token_type_ids = []\r\n",
        "    attention_mask = []\r\n",
        "    labels = []\r\n",
        "    for s in samples:\r\n",
        "        input_ids.append(s[0]['input_ids'].squeeze(0))\r\n",
        "        token_type_ids.append(s[0]['token_type_ids'].squeeze(0))\r\n",
        "        attention_mask.append(s[0]['attention_mask'].squeeze(0))\r\n",
        "        if s[1]:\r\n",
        "            labels.append(s[1])\r\n",
        "\r\n",
        "    # zero pad 到同一序列長度\r\n",
        "    input_ids = pad_sequence(input_ids, batch_first=True, padding_value=0)\r\n",
        "    token_type_ids = pad_sequence(token_type_ids, batch_first=True, padding_value=0)\r\n",
        "    attention_mask = pad_sequence(attention_mask, batch_first=True, padding_value=0)\r\n",
        " \r\n",
        "    if labels:\r\n",
        "        labels = torch.stack(labels)\r\n",
        "        return input_ids, token_type_ids, attention_mask, labels\r\n",
        "    else:\r\n",
        "        return input_ids, token_type_ids, attention_mask"
      ],
      "execution_count": 8,
      "outputs": []
    },
    {
      "cell_type": "code",
      "metadata": {
        "id": "4cmG8VcfeiNN",
        "colab": {
          "base_uri": "https://localhost:8080/",
          "height": 66,
          "referenced_widgets": [
            "55aedc793c85400b86d406322305b819",
            "91df3f5528c640f78294fb0f513aff5e",
            "a22b05e1f0f1416499a6899ac10aef8a",
            "4c1b4a627c4744ec8696778bbc820383",
            "e250aa90ca174d70846906febd94b5f7",
            "7c66d6d518204143bf3618e7b56685c2",
            "fedf6695ba0a4cb695033184fe3e7d8d",
            "790f3b8c48d4483dad92106aa8a57489"
          ]
        },
        "outputId": "109798ce-3e07-481c-b79b-b42f4c8800ab"
      },
      "source": [
        "train_batch_size = 32\n",
        "eval_batch_size = 512\n",
        "\n",
        "tokenizer = BertTokenizer.from_pretrained(MODEL_NAME)\n",
        "\n",
        "dataset = NewsPairDataset(tokenizer, df_train)\n",
        "\n",
        "train_size = int(0.8 * len(dataset))\n",
        "valid_size = len(dataset) - train_size\n",
        "train_dataset, valid_dataset = random_split(dataset, [train_size, valid_size])\n",
        "\n",
        "train_loader = DataLoader(\n",
        "    dataset=train_dataset,\n",
        "    batch_size=train_batch_size,\n",
        "    collate_fn=create_mini_batch,\n",
        "    shuffle=True\n",
        ")\n",
        "valid_loader = DataLoader(\n",
        "    dataset=valid_dataset,\n",
        "    batch_size=eval_batch_size,\n",
        "    collate_fn=create_mini_batch\n",
        ")"
      ],
      "execution_count": 9,
      "outputs": [
        {
          "output_type": "display_data",
          "data": {
            "application/vnd.jupyter.widget-view+json": {
              "model_id": "55aedc793c85400b86d406322305b819",
              "version_minor": 0,
              "version_major": 2
            },
            "text/plain": [
              "HBox(children=(FloatProgress(value=0.0, description='Downloading', max=109540.0, style=ProgressStyle(descripti…"
            ]
          },
          "metadata": {
            "tags": []
          }
        },
        {
          "output_type": "stream",
          "text": [
            "\n"
          ],
          "name": "stdout"
        }
      ]
    }
  ]
}