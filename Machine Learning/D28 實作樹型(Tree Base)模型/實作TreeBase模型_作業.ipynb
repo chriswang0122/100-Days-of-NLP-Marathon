{
 "cells": [
  {
   "cell_type": "markdown",
   "metadata": {
    "id": "RfGWM-OLveA3"
   },
   "source": [
    "### 作業目的: 使用樹型模型進行文章分類\n",
    "\n",
    "本次作業主利用[Amazon Review data中的All Beauty](https://nijianmo.github.io/amazon/index.html)來進行review評價分類(文章分類)\n",
    "\n",
    "資料中將review分為1,2,3,4,5分，而在這份作業，我們將評論改分為差評價、普通評價、優良評價(1,2-->1差評、3-->2普通評價、4,5-->3優良評價)"
   ]
  },
  {
   "cell_type": "code",
   "execution_count": 1,
   "metadata": {
    "colab": {
     "base_uri": "https://localhost:8080/"
    },
    "executionInfo": {
     "elapsed": 3816,
     "status": "ok",
     "timestamp": 1607842878376,
     "user": {
      "displayName": "王俊煒",
      "photoUrl": "",
      "userId": "10865038187423164500"
     },
     "user_tz": -480
    },
    "id": "zRkgWU1Ivo25",
    "outputId": "f379bad1-acfe-46bd-9bd1-d6ac7488fbb5"
   },
   "outputs": [
    {
     "name": "stdout",
     "output_type": "stream",
     "text": [
      "--2020-12-13 07:01:15--  http://deepyeti.ucsd.edu/jianmo/amazon/categoryFiles/All_Beauty.json.gz\n",
      "Resolving deepyeti.ucsd.edu (deepyeti.ucsd.edu)... 169.228.63.50\n",
      "Connecting to deepyeti.ucsd.edu (deepyeti.ucsd.edu)|169.228.63.50|:80... connected.\n",
      "HTTP request sent, awaiting response... 200 OK\n",
      "Length: 47350910 (45M) [application/octet-stream]\n",
      "Saving to: ‘All_Beauty.json.gz’\n",
      "\n",
      "All_Beauty.json.gz  100%[===================>]  45.16M  39.1MB/s    in 1.2s    \n",
      "\n",
      "2020-12-13 07:01:16 (39.1 MB/s) - ‘All_Beauty.json.gz’ saved [47350910/47350910]\n",
      "\n"
     ]
    }
   ],
   "source": [
    "!wget http://deepyeti.ucsd.edu/jianmo/amazon/categoryFiles/All_Beauty.json.gz\r\n",
    "!gunzip All_Beauty.json.gz"
   ]
  },
  {
   "cell_type": "markdown",
   "metadata": {
    "id": "nMBtz8S7veA8"
   },
   "source": [
    "### 載入套件"
   ]
  },
  {
   "cell_type": "code",
   "execution_count": 2,
   "metadata": {
    "executionInfo": {
     "elapsed": 4215,
     "status": "ok",
     "timestamp": 1607842878781,
     "user": {
      "displayName": "王俊煒",
      "photoUrl": "",
      "userId": "10865038187423164500"
     },
     "user_tz": -480
    },
    "id": "oewGVATnveA8"
   },
   "outputs": [],
   "source": [
    "import re\n",
    "import json\n",
    "from sklearn.model_selection import train_test_split\n",
    "from sklearn.feature_extraction.text import TfidfVectorizer\n",
    "from sklearn.tree import DecisionTreeClassifier\n",
    "from sklearn.metrics import classification_report, confusion_matrix"
   ]
  },
  {
   "cell_type": "markdown",
   "metadata": {
    "id": "AoPCz68VveA9"
   },
   "source": [
    "### 資料前處理\n",
    "文本資料較為龐大，這裡我們取前10000筆資料來進行作業練習"
   ]
  },
  {
   "cell_type": "code",
   "execution_count": 3,
   "metadata": {
    "colab": {
     "base_uri": "https://localhost:8080/"
    },
    "executionInfo": {
     "elapsed": 7104,
     "status": "ok",
     "timestamp": 1607842881675,
     "user": {
      "displayName": "王俊煒",
      "photoUrl": "",
      "userId": "10865038187423164500"
     },
     "user_tz": -480
    },
    "id": "qaR3HOGDveA9",
    "outputId": "24552562-a0ab-4e12-a4a3-4c798639a9b8"
   },
   "outputs": [
    {
     "data": {
      "text/plain": [
       "{'asin': '0143026860',\n",
       " 'overall': 1.0,\n",
       " 'reviewText': 'great',\n",
       " 'reviewTime': '02 19, 2015',\n",
       " 'reviewerID': 'A1V6B6TNIC10QE',\n",
       " 'reviewerName': 'theodore j bigham',\n",
       " 'summary': 'One Star',\n",
       " 'unixReviewTime': 1424304000,\n",
       " 'verified': True}"
      ]
     },
     "execution_count": 3,
     "metadata": {
      "tags": []
     },
     "output_type": "execute_result"
    }
   ],
   "source": [
    "# load json data\n",
    "all_reviews = []\n",
    "with open('All_Beauty.json', encoding='utf-8') as f:\n",
    "    for review in f:\n",
    "        all_reviews.append(json.loads(review))\n",
    "        \n",
    "all_reviews[0]"
   ]
  },
  {
   "cell_type": "code",
   "execution_count": 4,
   "metadata": {
    "executionInfo": {
     "elapsed": 7099,
     "status": "ok",
     "timestamp": 1607842881676,
     "user": {
      "displayName": "王俊煒",
      "photoUrl": "",
      "userId": "10865038187423164500"
     },
     "user_tz": -480
    },
    "id": "1dvvMwvMveA-"
   },
   "outputs": [],
   "source": [
    "# parse label(overall) and corpus(reviewText)\n",
    "corpus, labels = [], []\n",
    "for review in all_reviews[:10000]:\n",
    "    if 'reviewText' not in review or 'overall' not in review:\n",
    "        continue\n",
    "    corpus.append(review['reviewText'])\n",
    "    labels.append(review['overall'])\n",
    "        \n",
    "# transform labels: 1,2 --> 1 and 3 --> 2 and 4,5 --> 3\n",
    "label_map = {1: 1, 2: 1, 3: 2, 4: 3, 5: 3}\n",
    "labels = [label_map[int(label)] for label in labels]"
   ]
  },
  {
   "cell_type": "code",
   "execution_count": 5,
   "metadata": {
    "executionInfo": {
     "elapsed": 7512,
     "status": "ok",
     "timestamp": 1607842882093,
     "user": {
      "displayName": "王俊煒",
      "photoUrl": "",
      "userId": "10865038187423164500"
     },
     "user_tz": -480
    },
    "id": "XVB_dgaXveA-"
   },
   "outputs": [],
   "source": [
    "# preprocessing data\n",
    "# remove email address, punctuations, and change line symbol(\\n)\n",
    "pattern = r'\\S*@\\S*|\\\\n|\\W'\n",
    "preprocess_text = lambda x: ' '.join([w for w in re.sub(pattern, ' ', x).split() if w != ''])\n",
    "corpus = [preprocess_text(text) for text in corpus]"
   ]
  },
  {
   "cell_type": "code",
   "execution_count": 6,
   "metadata": {
    "colab": {
     "base_uri": "https://localhost:8080/"
    },
    "executionInfo": {
     "elapsed": 7509,
     "status": "ok",
     "timestamp": 1607842882094,
     "user": {
      "displayName": "王俊煒",
      "photoUrl": "",
      "userId": "10865038187423164500"
     },
     "user_tz": -480
    },
    "id": "5I31P_QYveA-",
    "outputId": "9e0036b4-3de1-4e59-d95c-c7c031954398"
   },
   "outputs": [
    {
     "data": {
      "text/plain": [
       "(7996, 1999, 7996, 1999)"
      ]
     },
     "execution_count": 6,
     "metadata": {
      "tags": []
     },
     "output_type": "execute_result"
    }
   ],
   "source": [
    "# split corpus and labels into train and test\n",
    "x_train, x_test, y_train, y_test = train_test_split(corpus, labels, test_size=0.2, random_state=0)\n",
    "len(x_train), len(x_test), len(y_train), len(y_test)"
   ]
  },
  {
   "cell_type": "code",
   "execution_count": 7,
   "metadata": {
    "executionInfo": {
     "elapsed": 7764,
     "status": "ok",
     "timestamp": 1607842882354,
     "user": {
      "displayName": "王俊煒",
      "photoUrl": "",
      "userId": "10865038187423164500"
     },
     "user_tz": -480
    },
    "id": "9AXr3KFiveA_"
   },
   "outputs": [],
   "source": [
    "# change corpus into vector\n",
    "# you can use tf-idf or BOW here\n",
    "vectorizer = TfidfVectorizer()\n",
    "vectorizer.fit(x_train)\n",
    "\n",
    "# transform training and testing corpus into vector form\n",
    "x_train = vectorizer.transform(x_train)\n",
    "x_test = vectorizer.transform(x_test)"
   ]
  },
  {
   "cell_type": "markdown",
   "metadata": {
    "id": "v14SsP3AveA_"
   },
   "source": [
    "### 訓練與預測"
   ]
  },
  {
   "cell_type": "code",
   "execution_count": 8,
   "metadata": {
    "colab": {
     "base_uri": "https://localhost:8080/"
    },
    "executionInfo": {
     "elapsed": 8332,
     "status": "ok",
     "timestamp": 1607842882926,
     "user": {
      "displayName": "王俊煒",
      "photoUrl": "",
      "userId": "10865038187423164500"
     },
     "user_tz": -480
    },
    "id": "_3p81DPXveA_",
    "outputId": "2807e126-5c04-4740-af9a-ddbb32526500"
   },
   "outputs": [
    {
     "data": {
      "text/plain": [
       "DecisionTreeClassifier(ccp_alpha=0.0, class_weight=None, criterion='entropy',\n",
       "                       max_depth=6, max_features=None, max_leaf_nodes=None,\n",
       "                       min_impurity_decrease=0.0, min_impurity_split=None,\n",
       "                       min_samples_leaf=1, min_samples_split=2,\n",
       "                       min_weight_fraction_leaf=0.0, presort='deprecated',\n",
       "                       random_state=None, splitter='best')"
      ]
     },
     "execution_count": 8,
     "metadata": {
      "tags": []
     },
     "output_type": "execute_result"
    }
   ],
   "source": [
    "# build classification model (decision tree, random forest, or adaboost)\n",
    "# start training\n",
    "decision_tree_cls = DecisionTreeClassifier(criterion='entropy', max_depth=6)\n",
    "decision_tree_cls.fit(x_train, y_train)"
   ]
  },
  {
   "cell_type": "code",
   "execution_count": 9,
   "metadata": {
    "executionInfo": {
     "elapsed": 8328,
     "status": "ok",
     "timestamp": 1607842882927,
     "user": {
      "displayName": "王俊煒",
      "photoUrl": "",
      "userId": "10865038187423164500"
     },
     "user_tz": -480
    },
    "id": "4uvgx-zgveA_"
   },
   "outputs": [],
   "source": [
    "# start inference\n",
    "y_pred = decision_tree_cls.predict(x_test)"
   ]
  },
  {
   "cell_type": "code",
   "execution_count": 10,
   "metadata": {
    "colab": {
     "base_uri": "https://localhost:8080/"
    },
    "executionInfo": {
     "elapsed": 8323,
     "status": "ok",
     "timestamp": 1607842882927,
     "user": {
      "displayName": "王俊煒",
      "photoUrl": "",
      "userId": "10865038187423164500"
     },
     "user_tz": -480
    },
    "id": "lT0o2quzveA_",
    "outputId": "c238f8f5-d82f-4347-aa68-919d636a4bcd"
   },
   "outputs": [
    {
     "name": "stdout",
     "output_type": "stream",
     "text": [
      "Accuracy: 0.9004502251125562\n"
     ]
    }
   ],
   "source": [
    "# calculate accuracy\n",
    "print(f\"Accuracy: {decision_tree_cls.score(x_test, y_test)}\")"
   ]
  },
  {
   "cell_type": "code",
   "execution_count": 11,
   "metadata": {
    "colab": {
     "base_uri": "https://localhost:8080/"
    },
    "executionInfo": {
     "elapsed": 8319,
     "status": "ok",
     "timestamp": 1607842882928,
     "user": {
      "displayName": "王俊煒",
      "photoUrl": "",
      "userId": "10865038187423164500"
     },
     "user_tz": -480
    },
    "id": "DcmPD4r2veBA",
    "outputId": "d0c582b2-15aa-4ae2-8361-bf5d72a51022"
   },
   "outputs": [
    {
     "name": "stdout",
     "output_type": "stream",
     "text": [
      "              precision    recall  f1-score   support\n",
      "\n",
      "           1       0.63      0.13      0.21       134\n",
      "           2       0.25      0.01      0.03        73\n",
      "           3       0.91      0.99      0.95      1792\n",
      "\n",
      "    accuracy                           0.90      1999\n",
      "   macro avg       0.60      0.38      0.40      1999\n",
      "weighted avg       0.86      0.90      0.86      1999\n",
      "\n",
      "[[  17    2  115]\n",
      " [   1    1   71]\n",
      " [   9    1 1782]]\n"
     ]
    }
   ],
   "source": [
    "# calculate confusion matrix, precision, recall, and f1-score\n",
    "print(classification_report(y_test, y_pred))\n",
    "print(confusion_matrix(y_test, y_pred))"
   ]
  },
  {
   "cell_type": "markdown",
   "metadata": {
    "id": "9p-JzIiMveBA"
   },
   "source": [
    "由上述資訊可以發現, 模型在好評的準確度高(precision, recall都高), 而在差評的部分表現較不理想, 在普通評價的部分大部分跟差評搞混,\n",
    "同學可以試著學習到的各種方法來提升模型的表現"
   ]
  }
 ],
 "metadata": {
  "colab": {
   "collapsed_sections": [],
   "name": "實作TreeBase模型_作業.ipynb",
   "provenance": [],
   "toc_visible": true
  },
  "kernelspec": {
   "display_name": "Python 3",
   "language": "python",
   "name": "python3"
  },
  "language_info": {
   "codemirror_mode": {
    "name": "ipython",
    "version": 3
   },
   "file_extension": ".py",
   "mimetype": "text/x-python",
   "name": "python",
   "nbconvert_exporter": "python",
   "pygments_lexer": "ipython3",
   "version": "3.7.8"
  }
 },
 "nbformat": 4,
 "nbformat_minor": 4
}
