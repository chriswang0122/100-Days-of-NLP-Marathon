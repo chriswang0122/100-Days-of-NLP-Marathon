{
 "cells": [
  {
   "cell_type": "markdown",
   "metadata": {
    "id": "zJbDC8UIBeCd"
   },
   "source": [
    "# 2.Linebot設計\n",
    "當 query 包含\"身高\"、\"體重\"、\"年齡\"、\"收入\"等隱私時，回覆以下貼圖"
   ]
  },
  {
   "cell_type": "code",
   "execution_count": 1,
   "metadata": {
    "id": "y6ySPB43BeCh",
    "outputId": "9eccaec4-ba8c-477a-8e23-9f0663f3d1df"
   },
   "outputs": [
    {
     "data": {
      "image/png": "[encoded data removed]",
      "text/plain": [
       "<IPython.core.display.Image object>"
      ]
     },
     "execution_count": 1,
     "metadata": {},
     "output_type": "execute_result"
    }
   ],
   "source": [
    "from IPython.display import Image\n",
    "Image(filename='play_dumb.png')"
   ]
  },
  {
   "cell_type": "code",
   "execution_count": 2,
   "metadata": {},
   "outputs": [
    {
     "name": "stdout",
     "output_type": "stream",
     "text": [
      " * Serving Flask app \"__main__\" (lazy loading)\n",
      " * Environment: production\n",
      "\u001b[31m   WARNING: This is a development server. Do not use it in a production deployment.\u001b[0m\n",
      "\u001b[2m   Use a production WSGI server instead.\u001b[0m\n",
      " * Debug mode: off\n"
     ]
    },
    {
     "name": "stderr",
     "output_type": "stream",
     "text": [
      " * Running on http://127.0.0.1:5000/ (Press CTRL+C to quit)\n"
     ]
    },
    {
     "name": "stdout",
     "output_type": "stream",
     "text": [
      "body: {\"events\":[{\"type\":\"message\",\"replyToken\":\"78e8c69d90c74f138d250b76ea551a19\",\"source\":{\"userId\":\"Uf4a7c12620964b85afe462da583cc510\",\"type\":\"user\"},\"timestamp\":1616336506999,\"mode\":\"active\",\"message\":{\"type\":\"text\",\"id\":\"13757130304382\",\"text\":\"你今年幾歲？\"}}],\"destination\":\"Uc5a660caf7116f3beb24a9621ce1eb12\"}\n",
      "signature: gcxyWuiu8eDXowozBTvKPXmIFy98tFA12G+yCk558no=\n",
      "=====\n"
     ]
    },
    {
     "name": "stderr",
     "output_type": "stream",
     "text": [
      "127.0.0.1 - - [21/Mar/2021 22:21:48] \"\u001b[37mPOST /callback HTTP/1.1\u001b[0m\" 200 -\n"
     ]
    },
    {
     "name": "stdout",
     "output_type": "stream",
     "text": [
      "body: {\"events\":[{\"type\":\"message\",\"replyToken\":\"7152bee329094633b9ed3759d24fc3e7\",\"source\":{\"userId\":\"Uf4a7c12620964b85afe462da583cc510\",\"type\":\"user\"},\"timestamp\":1616336527018,\"mode\":\"active\",\"message\":{\"type\":\"text\",\"id\":\"13757131866956\",\"text\":\"收入多少？\"}}],\"destination\":\"Uc5a660caf7116f3beb24a9621ce1eb12\"}\n",
      "signature: YMnuXS15sWW26Et7QnrtDHsyV1vXQZ1BmfwHuXpaKgM=\n",
      "=====\n"
     ]
    },
    {
     "name": "stderr",
     "output_type": "stream",
     "text": [
      "127.0.0.1 - - [21/Mar/2021 22:22:08] \"\u001b[37mPOST /callback HTTP/1.1\u001b[0m\" 200 -\n"
     ]
    }
   ],
   "source": [
    "import configparser\n",
    "from flask import Flask, request, abort\n",
    "from linebot import LineBotApi, WebhookHandler\n",
    "from linebot.exceptions import InvalidSignatureError\n",
    "from linebot.models import *\n",
    "\n",
    "app = Flask(__name__)\n",
    "\n",
    "# LINE 聊天機器人的基本資料\n",
    "config = configparser.ConfigParser()\n",
    "config.read('config.ini')\n",
    "\n",
    "line_bot_api = LineBotApi(config.get('line-bot', 'channel_access_token'))\n",
    "handler = WebhookHandler(config.get('line-bot', 'channel_secret'))\n",
    "\n",
    "# 接收 LINE 資訊\n",
    "@app.route('/callback', methods=['POST'])\n",
    "def callback():\n",
    "    signature = request.headers['X-Line-Signature']\n",
    "    body = request.get_data(as_text=True)\n",
    "    app.logger.info('Request body: ' + body)\n",
    "\n",
    "    try:\n",
    "        print('body:', body)\n",
    "        print('signature:', signature)\n",
    "        print('=' * 5)\n",
    "        handler.handle(body, signature)\n",
    "    except InvalidSignatureError:\n",
    "        abort(400)\n",
    "\n",
    "    return 'OK'\n",
    "\n",
    "# 回覆設定(default 僅能回固定語句)\n",
    "@handler.add(MessageEvent, message=TextMessage)\n",
    "def get_response(event):\n",
    "    query = event.message.text\n",
    "\n",
    "    sens = ['身高', '體重', '年齡', '收入']\n",
    "    if any(s in query for s in sens):\n",
    "        line_bot_api.reply_message(event.reply_token,StickerSendMessage(package_id=2, sticker_id=149))\n",
    "    else:\n",
    "        line_bot_api.reply_message(event.reply_token, TextSendMessage(text=\"嗨嗨\"))\n",
    "\n",
    "\n",
    "if __name__ == '__main__':\n",
    "    app.run()"
   ]
  },
  {
   "cell_type": "markdown",
   "metadata": {
    "id": "Tnl1BwbeBeCi"
   },
   "source": [
    "## 3.以Python實現多輪對話\n",
    "於多輪對話情境中加入\"取得股價資訊的功能\"，query 為公司簡稱時(ex:鴻海)，即輸出 2020/12/1 ~ 12/10 之股價資訊"
   ]
  },
  {
   "cell_type": "code",
   "execution_count": 3,
   "metadata": {},
   "outputs": [
    {
     "name": "stdout",
     "output_type": "stream",
     "text": [
      " * Serving Flask app \"__main__\" (lazy loading)\n",
      " * Environment: production\n",
      "\u001b[31m   WARNING: This is a development server. Do not use it in a production deployment.\u001b[0m\n",
      "\u001b[2m   Use a production WSGI server instead.\u001b[0m\n",
      " * Debug mode: off\n"
     ]
    },
    {
     "name": "stderr",
     "output_type": "stream",
     "text": [
      " * Running on http://127.0.0.1:5000/ (Press CTRL+C to quit)\n"
     ]
    },
    {
     "name": "stdout",
     "output_type": "stream",
     "text": [
      "body: {\"events\":[{\"type\":\"message\",\"replyToken\":\"8cb80d359f44472384c076fe1bcda00f\",\"source\":{\"userId\":\"Uf4a7c12620964b85afe462da583cc510\",\"type\":\"user\"},\"timestamp\":1616336545219,\"mode\":\"active\",\"message\":{\"type\":\"text\",\"id\":\"13757133317119\",\"text\":\"股票\"}}],\"destination\":\"Uc5a660caf7116f3beb24a9621ce1eb12\"}\n",
      "signature: bghINZig5pMoS/P3CUH3IPYNQ2zwMZ+eS8PssT+Om7c=\n",
      "=====\n",
      "chat_record: ['股票']\n"
     ]
    },
    {
     "name": "stderr",
     "output_type": "stream",
     "text": [
      "[2021-03-21 22:22:26,796] ERROR in app: Exception on /callback [POST]\n",
      "Traceback (most recent call last):\n",
      "  File \"/usr/local/lib/python3.6/dist-packages/flask/app.py\", line 2447, in wsgi_app\n",
      "    response = self.full_dispatch_request()\n",
      "  File \"/usr/local/lib/python3.6/dist-packages/flask/app.py\", line 1952, in full_dispatch_request\n",
      "    rv = self.handle_user_exception(e)\n",
      "  File \"/usr/local/lib/python3.6/dist-packages/flask/app.py\", line 1821, in handle_user_exception\n",
      "    reraise(exc_type, exc_value, tb)\n",
      "  File \"/usr/local/lib/python3.6/dist-packages/flask/_compat.py\", line 39, in reraise\n",
      "    raise value\n",
      "  File \"/usr/local/lib/python3.6/dist-packages/flask/app.py\", line 1950, in full_dispatch_request\n",
      "    rv = self.dispatch_request()\n",
      "  File \"/usr/local/lib/python3.6/dist-packages/flask/app.py\", line 1936, in dispatch_request\n",
      "    return self.view_functions[rule.endpoint](**req.view_args)\n",
      "  File \"<ipython-input-3-d2e9ff3c8696>\", line 38, in callback\n",
      "    handler.handle(body, signature)\n",
      "  File \"/home/chris/.local/lib/python3.6/site-packages/linebot/webhook.py\", line 260, in handle\n",
      "    self.__invoke_func(func, event, payload)\n",
      "  File \"/home/chris/.local/lib/python3.6/site-packages/linebot/webhook.py\", line 272, in __invoke_func\n",
      "    func(event)\n",
      "  File \"<ipython-input-3-d2e9ff3c8696>\", line 93, in get_response\n",
      "    line_bot_api.reply_message(event.reply_token, TextSendMessage(text=\"不論你說什麼 我都回你好!\"))\n",
      "  File \"/home/chris/.local/lib/python3.6/site-packages/linebot/api.py\", line 109, in reply_message\n",
      "    '/v2/bot/message/reply', data=json.dumps(data), timeout=timeout\n",
      "  File \"/home/chris/.local/lib/python3.6/site-packages/linebot/api.py\", line 1269, in _post\n",
      "    self.__check_error(response)\n",
      "  File \"/home/chris/.local/lib/python3.6/site-packages/linebot/api.py\", line 1310, in __check_error\n",
      "    error=Error.new_from_json_dict(response.json)\n",
      "linebot.exceptions.LineBotApiError: LineBotApiError: status_code=400, request_id=dc3a6aff-f5a0-4b25-9325-c753def0fa8f, error_response={\"details\": [], \"message\": \"Invalid reply token\"}, headers={'Server': 'openresty', 'Content-Type': 'application/json', 'x-line-request-id': 'dc3a6aff-f5a0-4b25-9325-c753def0fa8f', 'x-content-type-options': 'nosniff', 'x-xss-protection': '1; mode=block', 'x-frame-options': 'DENY', 'Expires': 'Sun, 21 Mar 2021 14:22:26 GMT', 'Cache-Control': 'max-age=0, no-cache, no-store', 'Pragma': 'no-cache', 'Date': 'Sun, 21 Mar 2021 14:22:26 GMT', 'Connection': 'close'}\n",
      "127.0.0.1 - - [21/Mar/2021 22:22:26] \"\u001b[35m\u001b[1mPOST /callback HTTP/1.1\u001b[0m\" 500 -\n"
     ]
    },
    {
     "name": "stdout",
     "output_type": "stream",
     "text": [
      "body: {\"events\":[{\"type\":\"message\",\"replyToken\":\"bfe510ae71714b5cbfa7e5e3f303491d\",\"source\":{\"userId\":\"Uf4a7c12620964b85afe462da583cc510\",\"type\":\"user\"},\"timestamp\":1616336551180,\"mode\":\"active\",\"message\":{\"type\":\"text\",\"id\":\"13757133800971\",\"text\":\"台積電\"}}],\"destination\":\"Uc5a660caf7116f3beb24a9621ce1eb12\"}\n",
      "signature: zhSSNg6IwNGTc8ZYx0pDcKirkCyV5UwsdORDgKfqQQA=\n",
      "=====\n",
      "chat_record: ['股票', '台積電']\n",
      "[*********************100%***********************]  1 of 1 completed\n"
     ]
    },
    {
     "name": "stderr",
     "output_type": "stream",
     "text": [
      "[2021-03-21 22:22:33,132] ERROR in app: Exception on /callback [POST]\n",
      "Traceback (most recent call last):\n",
      "  File \"/usr/local/lib/python3.6/dist-packages/flask/app.py\", line 2447, in wsgi_app\n",
      "    response = self.full_dispatch_request()\n",
      "  File \"/usr/local/lib/python3.6/dist-packages/flask/app.py\", line 1952, in full_dispatch_request\n",
      "    rv = self.handle_user_exception(e)\n",
      "  File \"/usr/local/lib/python3.6/dist-packages/flask/app.py\", line 1821, in handle_user_exception\n",
      "    reraise(exc_type, exc_value, tb)\n",
      "  File \"/usr/local/lib/python3.6/dist-packages/flask/_compat.py\", line 39, in reraise\n",
      "    raise value\n",
      "  File \"/usr/local/lib/python3.6/dist-packages/flask/app.py\", line 1950, in full_dispatch_request\n",
      "    rv = self.dispatch_request()\n",
      "  File \"/usr/local/lib/python3.6/dist-packages/flask/app.py\", line 1936, in dispatch_request\n",
      "    return self.view_functions[rule.endpoint](**req.view_args)\n",
      "  File \"<ipython-input-3-d2e9ff3c8696>\", line 38, in callback\n",
      "    handler.handle(body, signature)\n",
      "  File \"/home/chris/.local/lib/python3.6/site-packages/linebot/webhook.py\", line 260, in handle\n",
      "    self.__invoke_func(func, event, payload)\n",
      "  File \"/home/chris/.local/lib/python3.6/site-packages/linebot/webhook.py\", line 272, in __invoke_func\n",
      "    func(event)\n",
      "  File \"<ipython-input-3-d2e9ff3c8696>\", line 93, in get_response\n",
      "    line_bot_api.reply_message(event.reply_token, TextSendMessage(text=\"不論你說什麼 我都回你好!\"))\n",
      "  File \"/home/chris/.local/lib/python3.6/site-packages/linebot/api.py\", line 109, in reply_message\n",
      "    '/v2/bot/message/reply', data=json.dumps(data), timeout=timeout\n",
      "  File \"/home/chris/.local/lib/python3.6/site-packages/linebot/api.py\", line 1269, in _post\n",
      "    self.__check_error(response)\n",
      "  File \"/home/chris/.local/lib/python3.6/site-packages/linebot/api.py\", line 1310, in __check_error\n",
      "    error=Error.new_from_json_dict(response.json)\n",
      "linebot.exceptions.LineBotApiError: LineBotApiError: status_code=400, request_id=2758b062-9181-4578-8c5d-27b94a4eac75, error_response={\"details\": [], \"message\": \"Invalid reply token\"}, headers={'Server': 'openresty', 'Content-Type': 'application/json', 'x-line-request-id': '2758b062-9181-4578-8c5d-27b94a4eac75', 'x-content-type-options': 'nosniff', 'x-xss-protection': '1; mode=block', 'x-frame-options': 'DENY', 'Expires': 'Sun, 21 Mar 2021 14:22:33 GMT', 'Cache-Control': 'max-age=0, no-cache, no-store', 'Pragma': 'no-cache', 'Date': 'Sun, 21 Mar 2021 14:22:33 GMT', 'Connection': 'close'}\n",
      "127.0.0.1 - - [21/Mar/2021 22:22:33] \"\u001b[35m\u001b[1mPOST /callback HTTP/1.1\u001b[0m\" 500 -\n"
     ]
    }
   ],
   "source": [
    "import configparser\n",
    "from flask import Flask, request, abort\n",
    "from linebot import LineBotApi, WebhookHandler\n",
    "from linebot.exceptions import InvalidSignatureError\n",
    "from linebot.models import *\n",
    "\n",
    "import stock_utils as Stock\n",
    "import thsr_utils as Thsr\n",
    "thsr = Thsr.ThsrModule()\n",
    "\n",
    "chat_record = []\n",
    "thsr_res = {'starting': '', 'ending': '', 'date': '', 'ampm': ''}\n",
    "station_names = Thsr.station_name\n",
    "date_keys = Thsr.date_key\n",
    "ampm_keys = Thsr.ampm_key\n",
    "\n",
    "\n",
    "app = Flask(__name__)\n",
    "\n",
    "# LINE 聊天機器人的基本資料\n",
    "config = configparser.ConfigParser()\n",
    "config.read('config.ini')\n",
    "\n",
    "line_bot_api = LineBotApi(config.get('line-bot', 'channel_access_token'))\n",
    "handler = WebhookHandler(config.get('line-bot', 'channel_secret'))\n",
    "\n",
    "# 接收 LINE 資訊\n",
    "@app.route('/callback', methods=['POST'])\n",
    "def callback():\n",
    "    signature = request.headers['X-Line-Signature']\n",
    "    body = request.get_data(as_text=True)\n",
    "    app.logger.info('Request body: ' + body)\n",
    "\n",
    "    try:\n",
    "        print('body:', body)\n",
    "        print('signature:', signature)\n",
    "        print('=' * 5)\n",
    "        handler.handle(body, signature)\n",
    "    except InvalidSignatureError:\n",
    "        abort(400)\n",
    "\n",
    "    return 'OK'\n",
    "\n",
    "# 回覆設定 (高鐵 API 多輪對話以及\"加入取得股價資訊的功能\")\n",
    "@handler.add(MessageEvent, message=TextMessage)\n",
    "def get_response(event):\n",
    "    query = event.message.text\n",
    "    \n",
    "    if len(chat_record) < 5:\n",
    "        chat_record.append(query)\n",
    "    else:\n",
    "        chat_record.pop(0)\n",
    "        chat_record.append(query)\n",
    "    print('chat_record:', chat_record)\n",
    "\n",
    "    # 判斷是否為\"高鐵查詢意圖\"\n",
    "    if query == '高鐵':\n",
    "        line_bot_api.reply_message(event.reply_token, TextSendMessage(text='哪一天出發?'))\n",
    "    try:\n",
    "        if chat_record[-2] == '高鐵' and any(chat_record[-1] == i for i in date_keys):\n",
    "            date_format = thsr.get_date_string_today(chat_record[-1])\n",
    "            thsr_res['date'] = date_format\n",
    "            line_bot_api.reply_message(event.reply_token, TextSendMessage(text='上午還是下午的車?'))\n",
    "        elif any(chat_record[-2] == i for i in date_keys) and any(chat_record[-1] == i for i in ampm_keys):\n",
    "            thsr_res['ampm'] = chat_record[-1]\n",
    "            line_bot_api.reply_message(event.reply_token, TextSendMessage(text='起站是哪裡呢?'))\n",
    "        elif any(chat_record[-2] == i for i in ampm_keys) and any(chat_record[-1] == i for i in station_names):\n",
    "            startind_id = Thsr.station_id[chat_record[-1]]\n",
    "            thsr_res['starting'] = startind_id\n",
    "            line_bot_api.reply_message(event.reply_token, TextSendMessage(text='終點站是哪裡呢?'))\n",
    "        elif any(chat_record[-2] == i for i in station_names) and any(chat_record[-1] == i for i in station_names):\n",
    "            ending_id = Thsr.station_id[chat_record[-1]]\n",
    "            thsr_res['ending'] = ending_id\n",
    "            text = thsr.get_runs(thsr_res['starting'], thsr_res['ending'], thsr_res['date'], thsr_res['ampm'])\n",
    "            line_bot_api.reply_message(event.reply_token, TextSendMessage(text=text))\n",
    "    except IndexError:\n",
    "        pass\n",
    "\n",
    "    # 判斷是否為\"股價詢問意圖\"\n",
    "    if query == '股票':\n",
    "        line_bot_api.reply_message(event.reply_token, TextSendMessage(text=\"找哪一支股票?\"))\n",
    "    try:\n",
    "        if \"股票\" in chat_record:\n",
    "            ss = Stock.stock_symbol\n",
    "            if any(sk == query for sk in list(ss.keys())):\n",
    "                stock_symbol = ss[query]\n",
    "                stock_data = Stock.get_stockdata(stock_symbol, '2020-12-01', '2020-12-10')\n",
    "                stock_info = Stock.get_stockinfo(query, stock_data, 'Close')\n",
    "                line_bot_api.reply_message(event.reply_token, TextSendMessage(text=stock_info))\n",
    "    except:\n",
    "        pass\n",
    "\n",
    "    line_bot_api.reply_message(event.reply_token, TextSendMessage(text=\"不論你說什麼 我都回你好!\"))\n",
    "\n",
    "\n",
    "if __name__ == '__main__':\n",
    "    app.run()"
   ]
  }
 ],
 "metadata": {
  "colab": {
   "name": "rule-based chatbot_多輪 (作業).ipynb",
   "provenance": []
  },
  "kernelspec": {
   "display_name": "Python 3",
   "language": "python",
   "name": "python3"
  },
  "language_info": {
   "codemirror_mode": {
    "name": "ipython",
    "version": 3
   },
   "file_extension": ".py",
   "mimetype": "text/x-python",
   "name": "python",
   "nbconvert_exporter": "python",
   "pygments_lexer": "ipython3",
   "version": "3.6.9"
  }
 },
 "nbformat": 4,
 "nbformat_minor": 4
}
